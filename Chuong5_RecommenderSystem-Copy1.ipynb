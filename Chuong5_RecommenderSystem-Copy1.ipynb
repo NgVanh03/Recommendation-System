{
 "cells": [
  {
   "cell_type": "markdown",
   "metadata": {
    "id": "vBBD9wNIHyp7"
   },
   "source": [
    "<h2 align='center'> MÔN HỌC: <br> XỬ LÝ NGÔN NGỮ TỰ NHIÊN \n",
    "    (NATURAL LANGUAGE PROCESSING) </h2>\n",
    "\n",
    "---\n",
    "\n",
    "### ĐỀ TÀI: HỆ THỐNG GỢI Ý (RECOMMENDER SYSTEMS)\n",
    "---\n",
    "**NỘI DUNG:**\n",
    "1. Giới thiệu chung\n",
    "2. Phân loại hệ thống đề xuất\n",
    "3. Các phương pháp tính toán độ tương đồng\n",
    "4. Sơ đồ tổng quan và Thách thức\n",
    "5. Ví dụ minh họa\n",
    "---\n",
    "COPYRIGHT BY: NGUYỄN HỒ VIỆT ANH - 2121050383 - DCCTCT66_07B"
   ]
  },
  {
   "cell_type": "markdown",
   "metadata": {},
   "source": [
    "---\n",
    "### XÂY DỰNG HỆ THỐNG GỢI Ý MOVIES\n",
    "Dự án này sẽ xây dựng một hệ thống đề xuất dựa trên tập dữ liệu Movies.\n",
    "\n",
    "<img src='Pic/pic1.png' width='500px'>\n",
    "\n",
    "Dựa vào dữ liệu của trên 12 182 bộ films, xây dựng hệ thống đề xuất đưa ra danh sách 15 bộ film liên quan. Có hai loại Recommender system được xây dựng trong project này:\n",
    "\n",
    "\n",
    "*   Simple Recommender\n",
    "*   Content-Based Recommender\n",
    "\n",
    "Các file dữ liệu sử dụng bao gồm:\n",
    "\n",
    "**Data_Movies.csv:** File này chứa thông tin tổng hợp của ~ 12 000 bộ film, mỗi bộ film có 24 thuộc tính khác nhau, một số thuộc tính chính bao gồm:\n",
    "\n",
    "1. adult: Bộ film dành cho người lớn hay không. Dữ liệu boolean (True - Flase)\n",
    "2. original_language: Ngôn ngữ ban đầu; dữ liệu categorical\n",
    "3. genres: Thể loại film\n",
    "4. original_title: Tiêu đề của film, dữ liệu text\n",
    "5. overview: Tóm tắt nội dung của film; Dữ liệu text\n",
    "6. release_date: Ngày phát hành films\n",
    "7. vote_average: Điểm đánh giá trung bình cho bộ phim [0: dở tệ - 10: Xuất sắc]\n",
    "8. vote_count: Số lượt xem đánh giá bộ phim"
   ]
  },
  {
   "cell_type": "markdown",
   "metadata": {
    "id": "0WVHxEbMLjw7"
   },
   "source": [
    "## I) Đọc tập dữ liệu Movie\n",
    "---"
   ]
  },
  {
   "cell_type": "code",
   "execution_count": 1,
   "metadata": {
    "colab": {
     "base_uri": "https://localhost:8080/"
    },
    "id": "Agee35H2JZg0",
    "outputId": "866a7dd6-0130-4019-e4c1-44a3d792dec0"
   },
   "outputs": [
    {
     "name": "stdout",
     "output_type": "stream",
     "text": [
      "<class 'pandas.core.frame.DataFrame'>\n",
      "RangeIndex: 12182 entries, 0 to 12181\n",
      "Data columns (total 24 columns):\n",
      " #   Column                 Non-Null Count  Dtype  \n",
      "---  ------                 --------------  -----  \n",
      " 0   adult                  12182 non-null  bool   \n",
      " 1   belongs_to_collection  2409 non-null   object \n",
      " 2   budget                 12182 non-null  int64  \n",
      " 3   genres                 12182 non-null  object \n",
      " 4   homepage               3330 non-null   object \n",
      " 5   id                     12182 non-null  int64  \n",
      " 6   imdb_id                12180 non-null  object \n",
      " 7   original_language      12182 non-null  object \n",
      " 8   original_title         12182 non-null  object \n",
      " 9   overview               12119 non-null  object \n",
      " 10  popularity             12182 non-null  float64\n",
      " 11  poster_path            12182 non-null  object \n",
      " 12  production_companies   12182 non-null  object \n",
      " 13  production_countries   12182 non-null  object \n",
      " 14  release_date           12180 non-null  object \n",
      " 15  revenue                12182 non-null  float64\n",
      " 16  runtime                12178 non-null  float64\n",
      " 17  spoken_languages       12182 non-null  object \n",
      " 18  status                 12181 non-null  object \n",
      " 19  tagline                8782 non-null   object \n",
      " 20  title                  12182 non-null  object \n",
      " 21  video                  12182 non-null  bool   \n",
      " 22  vote_average           12182 non-null  float64\n",
      " 23  vote_count             12182 non-null  float64\n",
      "dtypes: bool(2), float64(5), int64(2), object(15)\n",
      "memory usage: 2.1+ MB\n"
     ]
    }
   ],
   "source": [
    "import pandas as pd\n",
    "import warnings\n",
    "warnings.filterwarnings('ignore')\n",
    "\n",
    "#Đọc tập dữ liệu thông tin của các film\n",
    "data_movies = pd.read_csv('data/Data_Movies.csv')\n",
    "\n",
    "#Hiển thị thông tin tập dữ liệu\n",
    "data_movies.info()"
   ]
  },
  {
   "cell_type": "code",
   "execution_count": 2,
   "metadata": {
    "colab": {
     "base_uri": "https://localhost:8080/",
     "height": 666
    },
    "id": "De82EJthJrEM",
    "outputId": "e5e96513-60a4-459d-df6a-2882b4426d93"
   },
   "outputs": [
    {
     "data": {
      "text/html": [
       "<div>\n",
       "<style scoped>\n",
       "    .dataframe tbody tr th:only-of-type {\n",
       "        vertical-align: middle;\n",
       "    }\n",
       "\n",
       "    .dataframe tbody tr th {\n",
       "        vertical-align: top;\n",
       "    }\n",
       "\n",
       "    .dataframe thead th {\n",
       "        text-align: right;\n",
       "    }\n",
       "</style>\n",
       "<table border=\"1\" class=\"dataframe\">\n",
       "  <thead>\n",
       "    <tr style=\"text-align: right;\">\n",
       "      <th></th>\n",
       "      <th>adult</th>\n",
       "      <th>belongs_to_collection</th>\n",
       "      <th>budget</th>\n",
       "      <th>genres</th>\n",
       "      <th>homepage</th>\n",
       "      <th>id</th>\n",
       "      <th>imdb_id</th>\n",
       "      <th>original_language</th>\n",
       "      <th>original_title</th>\n",
       "      <th>overview</th>\n",
       "      <th>...</th>\n",
       "      <th>release_date</th>\n",
       "      <th>revenue</th>\n",
       "      <th>runtime</th>\n",
       "      <th>spoken_languages</th>\n",
       "      <th>status</th>\n",
       "      <th>tagline</th>\n",
       "      <th>title</th>\n",
       "      <th>video</th>\n",
       "      <th>vote_average</th>\n",
       "      <th>vote_count</th>\n",
       "    </tr>\n",
       "  </thead>\n",
       "  <tbody>\n",
       "    <tr>\n",
       "      <th>0</th>\n",
       "      <td>False</td>\n",
       "      <td>{'id': 10194, 'name': 'Toy Story Collection', ...</td>\n",
       "      <td>30000000</td>\n",
       "      <td>[{'id': 16, 'name': 'Animation'}, {'id': 35, '...</td>\n",
       "      <td>http://toystory.disney.com/toy-story</td>\n",
       "      <td>862</td>\n",
       "      <td>tt0114709</td>\n",
       "      <td>en</td>\n",
       "      <td>Toy Story</td>\n",
       "      <td>Led by Woody, Andy's toys live happily in his ...</td>\n",
       "      <td>...</td>\n",
       "      <td>1995-10-30</td>\n",
       "      <td>373554033.0</td>\n",
       "      <td>81.0</td>\n",
       "      <td>[{'iso_639_1': 'en', 'name': 'English'}]</td>\n",
       "      <td>Released</td>\n",
       "      <td>NaN</td>\n",
       "      <td>Toy Story</td>\n",
       "      <td>False</td>\n",
       "      <td>7.7</td>\n",
       "      <td>5415.0</td>\n",
       "    </tr>\n",
       "    <tr>\n",
       "      <th>1</th>\n",
       "      <td>False</td>\n",
       "      <td>NaN</td>\n",
       "      <td>65000000</td>\n",
       "      <td>[{'id': 12, 'name': 'Adventure'}, {'id': 14, '...</td>\n",
       "      <td>NaN</td>\n",
       "      <td>8844</td>\n",
       "      <td>tt0113497</td>\n",
       "      <td>en</td>\n",
       "      <td>Jumanji</td>\n",
       "      <td>When siblings Judy and Peter discover an encha...</td>\n",
       "      <td>...</td>\n",
       "      <td>1995-12-15</td>\n",
       "      <td>262797249.0</td>\n",
       "      <td>104.0</td>\n",
       "      <td>[{'iso_639_1': 'en', 'name': 'English'}, {'iso...</td>\n",
       "      <td>Released</td>\n",
       "      <td>Roll the dice and unleash the excitement!</td>\n",
       "      <td>Jumanji</td>\n",
       "      <td>False</td>\n",
       "      <td>6.9</td>\n",
       "      <td>2413.0</td>\n",
       "    </tr>\n",
       "    <tr>\n",
       "      <th>2</th>\n",
       "      <td>False</td>\n",
       "      <td>{'id': 119050, 'name': 'Grumpy Old Men Collect...</td>\n",
       "      <td>0</td>\n",
       "      <td>[{'id': 10749, 'name': 'Romance'}, {'id': 35, ...</td>\n",
       "      <td>NaN</td>\n",
       "      <td>15602</td>\n",
       "      <td>tt0113228</td>\n",
       "      <td>en</td>\n",
       "      <td>Grumpier Old Men</td>\n",
       "      <td>A family wedding reignites the ancient feud be...</td>\n",
       "      <td>...</td>\n",
       "      <td>1995-12-22</td>\n",
       "      <td>0.0</td>\n",
       "      <td>101.0</td>\n",
       "      <td>[{'iso_639_1': 'en', 'name': 'English'}]</td>\n",
       "      <td>Released</td>\n",
       "      <td>Still Yelling. Still Fighting. Still Ready for...</td>\n",
       "      <td>Grumpier Old Men</td>\n",
       "      <td>False</td>\n",
       "      <td>6.5</td>\n",
       "      <td>92.0</td>\n",
       "    </tr>\n",
       "    <tr>\n",
       "      <th>3</th>\n",
       "      <td>False</td>\n",
       "      <td>NaN</td>\n",
       "      <td>16000000</td>\n",
       "      <td>[{'id': 35, 'name': 'Comedy'}, {'id': 18, 'nam...</td>\n",
       "      <td>NaN</td>\n",
       "      <td>31357</td>\n",
       "      <td>tt0114885</td>\n",
       "      <td>en</td>\n",
       "      <td>Waiting to Exhale</td>\n",
       "      <td>Cheated on, mistreated and stepped on, the wom...</td>\n",
       "      <td>...</td>\n",
       "      <td>1995-12-22</td>\n",
       "      <td>81452156.0</td>\n",
       "      <td>127.0</td>\n",
       "      <td>[{'iso_639_1': 'en', 'name': 'English'}]</td>\n",
       "      <td>Released</td>\n",
       "      <td>Friends are the people who let you be yourself...</td>\n",
       "      <td>Waiting to Exhale</td>\n",
       "      <td>False</td>\n",
       "      <td>6.1</td>\n",
       "      <td>34.0</td>\n",
       "    </tr>\n",
       "    <tr>\n",
       "      <th>4</th>\n",
       "      <td>False</td>\n",
       "      <td>{'id': 96871, 'name': 'Father of the Bride Col...</td>\n",
       "      <td>0</td>\n",
       "      <td>[{'id': 35, 'name': 'Comedy'}]</td>\n",
       "      <td>NaN</td>\n",
       "      <td>11862</td>\n",
       "      <td>tt0113041</td>\n",
       "      <td>en</td>\n",
       "      <td>Father of the Bride Part II</td>\n",
       "      <td>Just when George Banks has recovered from his ...</td>\n",
       "      <td>...</td>\n",
       "      <td>1995-02-10</td>\n",
       "      <td>76578911.0</td>\n",
       "      <td>106.0</td>\n",
       "      <td>[{'iso_639_1': 'en', 'name': 'English'}]</td>\n",
       "      <td>Released</td>\n",
       "      <td>Just When His World Is Back To Normal... He's ...</td>\n",
       "      <td>Father of the Bride Part II</td>\n",
       "      <td>False</td>\n",
       "      <td>5.7</td>\n",
       "      <td>173.0</td>\n",
       "    </tr>\n",
       "  </tbody>\n",
       "</table>\n",
       "<p>5 rows × 24 columns</p>\n",
       "</div>"
      ],
      "text/plain": [
       "   adult                              belongs_to_collection    budget  \\\n",
       "0  False  {'id': 10194, 'name': 'Toy Story Collection', ...  30000000   \n",
       "1  False                                                NaN  65000000   \n",
       "2  False  {'id': 119050, 'name': 'Grumpy Old Men Collect...         0   \n",
       "3  False                                                NaN  16000000   \n",
       "4  False  {'id': 96871, 'name': 'Father of the Bride Col...         0   \n",
       "\n",
       "                                              genres  \\\n",
       "0  [{'id': 16, 'name': 'Animation'}, {'id': 35, '...   \n",
       "1  [{'id': 12, 'name': 'Adventure'}, {'id': 14, '...   \n",
       "2  [{'id': 10749, 'name': 'Romance'}, {'id': 35, ...   \n",
       "3  [{'id': 35, 'name': 'Comedy'}, {'id': 18, 'nam...   \n",
       "4                     [{'id': 35, 'name': 'Comedy'}]   \n",
       "\n",
       "                               homepage     id    imdb_id original_language  \\\n",
       "0  http://toystory.disney.com/toy-story    862  tt0114709                en   \n",
       "1                                   NaN   8844  tt0113497                en   \n",
       "2                                   NaN  15602  tt0113228                en   \n",
       "3                                   NaN  31357  tt0114885                en   \n",
       "4                                   NaN  11862  tt0113041                en   \n",
       "\n",
       "                original_title  \\\n",
       "0                    Toy Story   \n",
       "1                      Jumanji   \n",
       "2             Grumpier Old Men   \n",
       "3            Waiting to Exhale   \n",
       "4  Father of the Bride Part II   \n",
       "\n",
       "                                            overview  ...  release_date  \\\n",
       "0  Led by Woody, Andy's toys live happily in his ...  ...    1995-10-30   \n",
       "1  When siblings Judy and Peter discover an encha...  ...    1995-12-15   \n",
       "2  A family wedding reignites the ancient feud be...  ...    1995-12-22   \n",
       "3  Cheated on, mistreated and stepped on, the wom...  ...    1995-12-22   \n",
       "4  Just when George Banks has recovered from his ...  ...    1995-02-10   \n",
       "\n",
       "       revenue runtime                                   spoken_languages  \\\n",
       "0  373554033.0    81.0           [{'iso_639_1': 'en', 'name': 'English'}]   \n",
       "1  262797249.0   104.0  [{'iso_639_1': 'en', 'name': 'English'}, {'iso...   \n",
       "2          0.0   101.0           [{'iso_639_1': 'en', 'name': 'English'}]   \n",
       "3   81452156.0   127.0           [{'iso_639_1': 'en', 'name': 'English'}]   \n",
       "4   76578911.0   106.0           [{'iso_639_1': 'en', 'name': 'English'}]   \n",
       "\n",
       "     status                                            tagline  \\\n",
       "0  Released                                                NaN   \n",
       "1  Released          Roll the dice and unleash the excitement!   \n",
       "2  Released  Still Yelling. Still Fighting. Still Ready for...   \n",
       "3  Released  Friends are the people who let you be yourself...   \n",
       "4  Released  Just When His World Is Back To Normal... He's ...   \n",
       "\n",
       "                         title  video vote_average vote_count  \n",
       "0                    Toy Story  False          7.7     5415.0  \n",
       "1                      Jumanji  False          6.9     2413.0  \n",
       "2             Grumpier Old Men  False          6.5       92.0  \n",
       "3            Waiting to Exhale  False          6.1       34.0  \n",
       "4  Father of the Bride Part II  False          5.7      173.0  \n",
       "\n",
       "[5 rows x 24 columns]"
      ]
     },
     "execution_count": 2,
     "metadata": {},
     "output_type": "execute_result"
    }
   ],
   "source": [
    "#Hiển thị dữ liệu 5 dòng đầu tiên\n",
    "data_movies.head()"
   ]
  },
  {
   "cell_type": "markdown",
   "metadata": {
    "id": "eJFNsjDQ6G-5"
   },
   "source": [
    "**Lọc dữ liệu thô ban đầu chỉ lấy các cột quan trọng sử dụng để xây dựng hệ thống gợi ý:**\n",
    "* adult: Bộ film dành cho người lớn hay không. Dữ liệu boolean (True - Flase)\n",
    "* original_language: Ngôn ngữ ban đầu; dữ liệu categorical\n",
    "* original_title: Tiêu đề của film, dữ liệu text\n",
    "* overview: Tóm tắt nội dung của film; Dữ liệu text\n",
    "* release_date: Ngày phát hành film\n",
    "* vote_average: Tỷ lệ vote trung bình [0-10]\n",
    "* vote_count: Số lượt vote"
   ]
  },
  {
   "cell_type": "code",
   "execution_count": 3,
   "metadata": {
    "colab": {
     "base_uri": "https://localhost:8080/"
    },
    "id": "H4lQuUW_57qq",
    "outputId": "ef2b6308-f6d9-49fe-8509-057f98c8c0a6"
   },
   "outputs": [
    {
     "name": "stdout",
     "output_type": "stream",
     "text": [
      "<class 'pandas.core.frame.DataFrame'>\n",
      "RangeIndex: 12182 entries, 0 to 12181\n",
      "Data columns (total 6 columns):\n",
      " #   Column          Non-Null Count  Dtype  \n",
      "---  ------          --------------  -----  \n",
      " 0   adult           12182 non-null  bool   \n",
      " 1   original_title  12182 non-null  object \n",
      " 2   overview        12119 non-null  object \n",
      " 3   release_date    12180 non-null  object \n",
      " 4   vote_average    12182 non-null  float64\n",
      " 5   vote_count      12182 non-null  float64\n",
      "dtypes: bool(1), float64(2), object(3)\n",
      "memory usage: 487.9+ KB\n"
     ]
    }
   ],
   "source": [
    "data = data_movies.loc[:,['adult',\n",
    "                          'original_title',\n",
    "                          'overview',\n",
    "                          'release_date',\n",
    "                          'vote_average',\n",
    "                          'vote_count']].copy()\n",
    "data.info()"
   ]
  },
  {
   "cell_type": "code",
   "execution_count": 4,
   "metadata": {},
   "outputs": [
    {
     "data": {
      "text/html": [
       "<div>\n",
       "<style scoped>\n",
       "    .dataframe tbody tr th:only-of-type {\n",
       "        vertical-align: middle;\n",
       "    }\n",
       "\n",
       "    .dataframe tbody tr th {\n",
       "        vertical-align: top;\n",
       "    }\n",
       "\n",
       "    .dataframe thead th {\n",
       "        text-align: right;\n",
       "    }\n",
       "</style>\n",
       "<table border=\"1\" class=\"dataframe\">\n",
       "  <thead>\n",
       "    <tr style=\"text-align: right;\">\n",
       "      <th></th>\n",
       "      <th>adult</th>\n",
       "      <th>original_title</th>\n",
       "      <th>overview</th>\n",
       "      <th>release_date</th>\n",
       "      <th>vote_average</th>\n",
       "      <th>vote_count</th>\n",
       "    </tr>\n",
       "  </thead>\n",
       "  <tbody>\n",
       "    <tr>\n",
       "      <th>0</th>\n",
       "      <td>False</td>\n",
       "      <td>Toy Story</td>\n",
       "      <td>Led by Woody, Andy's toys live happily in his ...</td>\n",
       "      <td>1995-10-30</td>\n",
       "      <td>7.7</td>\n",
       "      <td>5415.0</td>\n",
       "    </tr>\n",
       "    <tr>\n",
       "      <th>1</th>\n",
       "      <td>False</td>\n",
       "      <td>Jumanji</td>\n",
       "      <td>When siblings Judy and Peter discover an encha...</td>\n",
       "      <td>1995-12-15</td>\n",
       "      <td>6.9</td>\n",
       "      <td>2413.0</td>\n",
       "    </tr>\n",
       "    <tr>\n",
       "      <th>2</th>\n",
       "      <td>False</td>\n",
       "      <td>Grumpier Old Men</td>\n",
       "      <td>A family wedding reignites the ancient feud be...</td>\n",
       "      <td>1995-12-22</td>\n",
       "      <td>6.5</td>\n",
       "      <td>92.0</td>\n",
       "    </tr>\n",
       "    <tr>\n",
       "      <th>3</th>\n",
       "      <td>False</td>\n",
       "      <td>Waiting to Exhale</td>\n",
       "      <td>Cheated on, mistreated and stepped on, the wom...</td>\n",
       "      <td>1995-12-22</td>\n",
       "      <td>6.1</td>\n",
       "      <td>34.0</td>\n",
       "    </tr>\n",
       "    <tr>\n",
       "      <th>4</th>\n",
       "      <td>False</td>\n",
       "      <td>Father of the Bride Part II</td>\n",
       "      <td>Just when George Banks has recovered from his ...</td>\n",
       "      <td>1995-02-10</td>\n",
       "      <td>5.7</td>\n",
       "      <td>173.0</td>\n",
       "    </tr>\n",
       "  </tbody>\n",
       "</table>\n",
       "</div>"
      ],
      "text/plain": [
       "   adult               original_title  \\\n",
       "0  False                    Toy Story   \n",
       "1  False                      Jumanji   \n",
       "2  False             Grumpier Old Men   \n",
       "3  False            Waiting to Exhale   \n",
       "4  False  Father of the Bride Part II   \n",
       "\n",
       "                                            overview release_date  \\\n",
       "0  Led by Woody, Andy's toys live happily in his ...   1995-10-30   \n",
       "1  When siblings Judy and Peter discover an encha...   1995-12-15   \n",
       "2  A family wedding reignites the ancient feud be...   1995-12-22   \n",
       "3  Cheated on, mistreated and stepped on, the wom...   1995-12-22   \n",
       "4  Just when George Banks has recovered from his ...   1995-02-10   \n",
       "\n",
       "   vote_average  vote_count  \n",
       "0           7.7      5415.0  \n",
       "1           6.9      2413.0  \n",
       "2           6.5        92.0  \n",
       "3           6.1        34.0  \n",
       "4           5.7       173.0  "
      ]
     },
     "execution_count": 4,
     "metadata": {},
     "output_type": "execute_result"
    }
   ],
   "source": [
    "data.head()"
   ]
  },
  {
   "cell_type": "code",
   "execution_count": 5,
   "metadata": {},
   "outputs": [
    {
     "data": {
      "text/html": [
       "<div>\n",
       "<style scoped>\n",
       "    .dataframe tbody tr th:only-of-type {\n",
       "        vertical-align: middle;\n",
       "    }\n",
       "\n",
       "    .dataframe tbody tr th {\n",
       "        vertical-align: top;\n",
       "    }\n",
       "\n",
       "    .dataframe thead th {\n",
       "        text-align: right;\n",
       "    }\n",
       "</style>\n",
       "<table border=\"1\" class=\"dataframe\">\n",
       "  <thead>\n",
       "    <tr style=\"text-align: right;\">\n",
       "      <th></th>\n",
       "      <th>adult</th>\n",
       "      <th>original_title</th>\n",
       "      <th>overview</th>\n",
       "      <th>release_date</th>\n",
       "      <th>vote_average</th>\n",
       "      <th>vote_count</th>\n",
       "    </tr>\n",
       "  </thead>\n",
       "  <tbody>\n",
       "    <tr>\n",
       "      <th>12177</th>\n",
       "      <td>False</td>\n",
       "      <td>Frankenstein Created Woman</td>\n",
       "      <td>A deformed tormented girl drowns herself after...</td>\n",
       "      <td>1967-03-15</td>\n",
       "      <td>5.9</td>\n",
       "      <td>33.0</td>\n",
       "    </tr>\n",
       "    <tr>\n",
       "      <th>12178</th>\n",
       "      <td>False</td>\n",
       "      <td>Take Me</td>\n",
       "      <td>Ray is a fledgling entrepreneur who specialize...</td>\n",
       "      <td>2017-05-05</td>\n",
       "      <td>6.0</td>\n",
       "      <td>38.0</td>\n",
       "    </tr>\n",
       "    <tr>\n",
       "      <th>12179</th>\n",
       "      <td>False</td>\n",
       "      <td>The Incredible Jessica James</td>\n",
       "      <td>Burned by a bad breakup, a struggling New York...</td>\n",
       "      <td>2017-01-27</td>\n",
       "      <td>6.2</td>\n",
       "      <td>37.0</td>\n",
       "    </tr>\n",
       "    <tr>\n",
       "      <th>12180</th>\n",
       "      <td>False</td>\n",
       "      <td>In a Heartbeat</td>\n",
       "      <td>A closeted boy runs the risk of being outed by...</td>\n",
       "      <td>2017-06-01</td>\n",
       "      <td>8.3</td>\n",
       "      <td>146.0</td>\n",
       "    </tr>\n",
       "    <tr>\n",
       "      <th>12181</th>\n",
       "      <td>False</td>\n",
       "      <td>Cadet Kelly</td>\n",
       "      <td>Hyperactive teenager Kelly is enrolled into a ...</td>\n",
       "      <td>2002-03-07</td>\n",
       "      <td>5.2</td>\n",
       "      <td>145.0</td>\n",
       "    </tr>\n",
       "  </tbody>\n",
       "</table>\n",
       "</div>"
      ],
      "text/plain": [
       "       adult                original_title  \\\n",
       "12177  False    Frankenstein Created Woman   \n",
       "12178  False                       Take Me   \n",
       "12179  False  The Incredible Jessica James   \n",
       "12180  False                In a Heartbeat   \n",
       "12181  False                   Cadet Kelly   \n",
       "\n",
       "                                                overview release_date  \\\n",
       "12177  A deformed tormented girl drowns herself after...   1967-03-15   \n",
       "12178  Ray is a fledgling entrepreneur who specialize...   2017-05-05   \n",
       "12179  Burned by a bad breakup, a struggling New York...   2017-01-27   \n",
       "12180  A closeted boy runs the risk of being outed by...   2017-06-01   \n",
       "12181  Hyperactive teenager Kelly is enrolled into a ...   2002-03-07   \n",
       "\n",
       "       vote_average  vote_count  \n",
       "12177           5.9        33.0  \n",
       "12178           6.0        38.0  \n",
       "12179           6.2        37.0  \n",
       "12180           8.3       146.0  \n",
       "12181           5.2       145.0  "
      ]
     },
     "execution_count": 5,
     "metadata": {},
     "output_type": "execute_result"
    }
   ],
   "source": [
    "data.tail()"
   ]
  },
  {
   "cell_type": "code",
   "execution_count": 6,
   "metadata": {
    "colab": {
     "base_uri": "https://localhost:8080/",
     "height": 297
    },
    "id": "wiE7pLPiJ1R1",
    "outputId": "16615b25-e78e-4f2a-8940-53134a83c728"
   },
   "outputs": [
    {
     "data": {
      "text/html": [
       "<div>\n",
       "<style scoped>\n",
       "    .dataframe tbody tr th:only-of-type {\n",
       "        vertical-align: middle;\n",
       "    }\n",
       "\n",
       "    .dataframe tbody tr th {\n",
       "        vertical-align: top;\n",
       "    }\n",
       "\n",
       "    .dataframe thead th {\n",
       "        text-align: right;\n",
       "    }\n",
       "</style>\n",
       "<table border=\"1\" class=\"dataframe\">\n",
       "  <thead>\n",
       "    <tr style=\"text-align: right;\">\n",
       "      <th></th>\n",
       "      <th>vote_average</th>\n",
       "      <th>vote_count</th>\n",
       "    </tr>\n",
       "  </thead>\n",
       "  <tbody>\n",
       "    <tr>\n",
       "      <th>count</th>\n",
       "      <td>12182.000000</td>\n",
       "      <td>12182.000000</td>\n",
       "    </tr>\n",
       "    <tr>\n",
       "      <th>mean</th>\n",
       "      <td>6.308644</td>\n",
       "      <td>388.224594</td>\n",
       "    </tr>\n",
       "    <tr>\n",
       "      <th>std</th>\n",
       "      <td>0.919185</td>\n",
       "      <td>891.546891</td>\n",
       "    </tr>\n",
       "    <tr>\n",
       "      <th>min</th>\n",
       "      <td>0.000000</td>\n",
       "      <td>31.000000</td>\n",
       "    </tr>\n",
       "    <tr>\n",
       "      <th>25%</th>\n",
       "      <td>5.700000</td>\n",
       "      <td>50.000000</td>\n",
       "    </tr>\n",
       "    <tr>\n",
       "      <th>50%</th>\n",
       "      <td>6.400000</td>\n",
       "      <td>99.000000</td>\n",
       "    </tr>\n",
       "    <tr>\n",
       "      <th>75%</th>\n",
       "      <td>7.000000</td>\n",
       "      <td>299.000000</td>\n",
       "    </tr>\n",
       "    <tr>\n",
       "      <th>max</th>\n",
       "      <td>9.500000</td>\n",
       "      <td>14075.000000</td>\n",
       "    </tr>\n",
       "  </tbody>\n",
       "</table>\n",
       "</div>"
      ],
      "text/plain": [
       "       vote_average    vote_count\n",
       "count  12182.000000  12182.000000\n",
       "mean       6.308644    388.224594\n",
       "std        0.919185    891.546891\n",
       "min        0.000000     31.000000\n",
       "25%        5.700000     50.000000\n",
       "50%        6.400000     99.000000\n",
       "75%        7.000000    299.000000\n",
       "max        9.500000  14075.000000"
      ]
     },
     "execution_count": 6,
     "metadata": {},
     "output_type": "execute_result"
    }
   ],
   "source": [
    "#Đặc trưng thống kê các thuôc tính số\n",
    "data.describe()"
   ]
  },
  {
   "cell_type": "code",
   "execution_count": 11,
   "metadata": {},
   "outputs": [
    {
     "data": {
      "text/html": [
       "<div>\n",
       "<style scoped>\n",
       "    .dataframe tbody tr th:only-of-type {\n",
       "        vertical-align: middle;\n",
       "    }\n",
       "\n",
       "    .dataframe tbody tr th {\n",
       "        vertical-align: top;\n",
       "    }\n",
       "\n",
       "    .dataframe thead th {\n",
       "        text-align: right;\n",
       "    }\n",
       "</style>\n",
       "<table border=\"1\" class=\"dataframe\">\n",
       "  <thead>\n",
       "    <tr style=\"text-align: right;\">\n",
       "      <th></th>\n",
       "      <th>adult</th>\n",
       "      <th>original_title</th>\n",
       "      <th>overview</th>\n",
       "      <th>release_date</th>\n",
       "      <th>vote_average</th>\n",
       "      <th>vote_count</th>\n",
       "    </tr>\n",
       "  </thead>\n",
       "  <tbody>\n",
       "    <tr>\n",
       "      <th>7116</th>\n",
       "      <td>False</td>\n",
       "      <td>Inception</td>\n",
       "      <td>Cobb, a skilled thief who commits corporate es...</td>\n",
       "      <td>2010-07-14</td>\n",
       "      <td>8.1</td>\n",
       "      <td>14075.0</td>\n",
       "    </tr>\n",
       "  </tbody>\n",
       "</table>\n",
       "</div>"
      ],
      "text/plain": [
       "      adult original_title                                           overview  \\\n",
       "7116  False      Inception  Cobb, a skilled thief who commits corporate es...   \n",
       "\n",
       "     release_date  vote_average  vote_count  \n",
       "7116   2010-07-14           8.1     14075.0  "
      ]
     },
     "execution_count": 11,
     "metadata": {},
     "output_type": "execute_result"
    }
   ],
   "source": [
    "data[data.vote_count>14000]"
   ]
  },
  {
   "cell_type": "code",
   "execution_count": null,
   "metadata": {},
   "outputs": [],
   "source": [
    "data[data.>14000]"
   ]
  },
  {
   "cell_type": "code",
   "execution_count": 7,
   "metadata": {
    "colab": {
     "base_uri": "https://localhost:8080/",
     "height": 173
    },
    "id": "9vntmqMANsae",
    "outputId": "49025477-f37f-4603-8e2c-3727a7c2c186"
   },
   "outputs": [
    {
     "data": {
      "text/html": [
       "<div>\n",
       "<style scoped>\n",
       "    .dataframe tbody tr th:only-of-type {\n",
       "        vertical-align: middle;\n",
       "    }\n",
       "\n",
       "    .dataframe tbody tr th {\n",
       "        vertical-align: top;\n",
       "    }\n",
       "\n",
       "    .dataframe thead th {\n",
       "        text-align: right;\n",
       "    }\n",
       "</style>\n",
       "<table border=\"1\" class=\"dataframe\">\n",
       "  <thead>\n",
       "    <tr style=\"text-align: right;\">\n",
       "      <th></th>\n",
       "      <th>original_title</th>\n",
       "      <th>overview</th>\n",
       "      <th>release_date</th>\n",
       "    </tr>\n",
       "  </thead>\n",
       "  <tbody>\n",
       "    <tr>\n",
       "      <th>count</th>\n",
       "      <td>12182</td>\n",
       "      <td>12119</td>\n",
       "      <td>12180</td>\n",
       "    </tr>\n",
       "    <tr>\n",
       "      <th>unique</th>\n",
       "      <td>11828</td>\n",
       "      <td>12099</td>\n",
       "      <td>6884</td>\n",
       "    </tr>\n",
       "    <tr>\n",
       "      <th>top</th>\n",
       "      <td>Life</td>\n",
       "      <td>No overview found.</td>\n",
       "      <td>2009-01-01</td>\n",
       "    </tr>\n",
       "    <tr>\n",
       "      <th>freq</th>\n",
       "      <td>4</td>\n",
       "      <td>8</td>\n",
       "      <td>19</td>\n",
       "    </tr>\n",
       "  </tbody>\n",
       "</table>\n",
       "</div>"
      ],
      "text/plain": [
       "       original_title            overview release_date\n",
       "count           12182               12119        12180\n",
       "unique          11828               12099         6884\n",
       "top              Life  No overview found.   2009-01-01\n",
       "freq                4                   8           19"
      ]
     },
     "execution_count": 7,
     "metadata": {},
     "output_type": "execute_result"
    }
   ],
   "source": [
    "#Đặc trưng thống kê dữ liệu Object\n",
    "data.describe(include=['O'])"
   ]
  },
  {
   "cell_type": "code",
   "execution_count": 9,
   "metadata": {},
   "outputs": [
    {
     "data": {
      "text/html": [
       "<div>\n",
       "<style scoped>\n",
       "    .dataframe tbody tr th:only-of-type {\n",
       "        vertical-align: middle;\n",
       "    }\n",
       "\n",
       "    .dataframe tbody tr th {\n",
       "        vertical-align: top;\n",
       "    }\n",
       "\n",
       "    .dataframe thead th {\n",
       "        text-align: right;\n",
       "    }\n",
       "</style>\n",
       "<table border=\"1\" class=\"dataframe\">\n",
       "  <thead>\n",
       "    <tr style=\"text-align: right;\">\n",
       "      <th></th>\n",
       "      <th>adult</th>\n",
       "      <th>original_title</th>\n",
       "      <th>overview</th>\n",
       "      <th>release_date</th>\n",
       "      <th>vote_average</th>\n",
       "      <th>vote_count</th>\n",
       "    </tr>\n",
       "  </thead>\n",
       "  <tbody>\n",
       "    <tr>\n",
       "      <th>6869</th>\n",
       "      <td>False</td>\n",
       "      <td>Avatar</td>\n",
       "      <td>In the 22nd century, a paraplegic Marine is di...</td>\n",
       "      <td>2009-12-10</td>\n",
       "      <td>7.2</td>\n",
       "      <td>12114.0</td>\n",
       "    </tr>\n",
       "  </tbody>\n",
       "</table>\n",
       "</div>"
      ],
      "text/plain": [
       "      adult original_title                                           overview  \\\n",
       "6869  False         Avatar  In the 22nd century, a paraplegic Marine is di...   \n",
       "\n",
       "     release_date  vote_average  vote_count  \n",
       "6869   2009-12-10           7.2     12114.0  "
      ]
     },
     "execution_count": 9,
     "metadata": {},
     "output_type": "execute_result"
    }
   ],
   "source": [
    "#Tìm kiếm film theo tên:\n",
    "data[data.original_title=='Avatar']"
   ]
  },
  {
   "cell_type": "code",
   "execution_count": 10,
   "metadata": {},
   "outputs": [
    {
     "data": {
      "text/html": [
       "<div>\n",
       "<style scoped>\n",
       "    .dataframe tbody tr th:only-of-type {\n",
       "        vertical-align: middle;\n",
       "    }\n",
       "\n",
       "    .dataframe tbody tr th {\n",
       "        vertical-align: top;\n",
       "    }\n",
       "\n",
       "    .dataframe thead th {\n",
       "        text-align: right;\n",
       "    }\n",
       "</style>\n",
       "<table border=\"1\" class=\"dataframe\">\n",
       "  <thead>\n",
       "    <tr style=\"text-align: right;\">\n",
       "      <th></th>\n",
       "      <th>adult</th>\n",
       "      <th>original_title</th>\n",
       "      <th>overview</th>\n",
       "      <th>release_date</th>\n",
       "      <th>vote_average</th>\n",
       "      <th>vote_count</th>\n",
       "    </tr>\n",
       "  </thead>\n",
       "  <tbody>\n",
       "    <tr>\n",
       "      <th>5024</th>\n",
       "      <td>False</td>\n",
       "      <td>Tanguy</td>\n",
       "      <td>No overview found.</td>\n",
       "      <td>2001-11-21</td>\n",
       "      <td>5.8</td>\n",
       "      <td>70.0</td>\n",
       "    </tr>\n",
       "    <tr>\n",
       "      <th>8078</th>\n",
       "      <td>False</td>\n",
       "      <td>Mais qui a tué Pamela Rose ?</td>\n",
       "      <td>No overview found.</td>\n",
       "      <td>2003-06-04</td>\n",
       "      <td>6.6</td>\n",
       "      <td>62.0</td>\n",
       "    </tr>\n",
       "    <tr>\n",
       "      <th>9721</th>\n",
       "      <td>False</td>\n",
       "      <td>Grande, grosso e Verdone</td>\n",
       "      <td>No overview found.</td>\n",
       "      <td>2008-03-07</td>\n",
       "      <td>5.6</td>\n",
       "      <td>78.0</td>\n",
       "    </tr>\n",
       "    <tr>\n",
       "      <th>10103</th>\n",
       "      <td>False</td>\n",
       "      <td>7 Zwerge - Der Wald ist nicht genug</td>\n",
       "      <td>No overview found.</td>\n",
       "      <td>2006-10-25</td>\n",
       "      <td>4.9</td>\n",
       "      <td>44.0</td>\n",
       "    </tr>\n",
       "    <tr>\n",
       "      <th>10516</th>\n",
       "      <td>False</td>\n",
       "      <td>Lezioni di cioccolato</td>\n",
       "      <td>No overview found.</td>\n",
       "      <td>2007-11-23</td>\n",
       "      <td>5.8</td>\n",
       "      <td>42.0</td>\n",
       "    </tr>\n",
       "    <tr>\n",
       "      <th>10566</th>\n",
       "      <td>False</td>\n",
       "      <td>Il cosmo sul comò</td>\n",
       "      <td>No overview found.</td>\n",
       "      <td>2008-12-19</td>\n",
       "      <td>5.0</td>\n",
       "      <td>156.0</td>\n",
       "    </tr>\n",
       "    <tr>\n",
       "      <th>10612</th>\n",
       "      <td>False</td>\n",
       "      <td>Fantozzi subisce ancora</td>\n",
       "      <td>No overview found.</td>\n",
       "      <td>1983-01-01</td>\n",
       "      <td>6.4</td>\n",
       "      <td>77.0</td>\n",
       "    </tr>\n",
       "    <tr>\n",
       "      <th>11093</th>\n",
       "      <td>False</td>\n",
       "      <td>Jean-Philippe</td>\n",
       "      <td>No overview found.</td>\n",
       "      <td>2006-04-05</td>\n",
       "      <td>5.4</td>\n",
       "      <td>48.0</td>\n",
       "    </tr>\n",
       "  </tbody>\n",
       "</table>\n",
       "</div>"
      ],
      "text/plain": [
       "       adult                       original_title            overview  \\\n",
       "5024   False                               Tanguy  No overview found.   \n",
       "8078   False         Mais qui a tué Pamela Rose ?  No overview found.   \n",
       "9721   False             Grande, grosso e Verdone  No overview found.   \n",
       "10103  False  7 Zwerge - Der Wald ist nicht genug  No overview found.   \n",
       "10516  False                Lezioni di cioccolato  No overview found.   \n",
       "10566  False                    Il cosmo sul comò  No overview found.   \n",
       "10612  False              Fantozzi subisce ancora  No overview found.   \n",
       "11093  False                        Jean-Philippe  No overview found.   \n",
       "\n",
       "      release_date  vote_average  vote_count  \n",
       "5024    2001-11-21           5.8        70.0  \n",
       "8078    2003-06-04           6.6        62.0  \n",
       "9721    2008-03-07           5.6        78.0  \n",
       "10103   2006-10-25           4.9        44.0  \n",
       "10516   2007-11-23           5.8        42.0  \n",
       "10566   2008-12-19           5.0       156.0  \n",
       "10612   1983-01-01           6.4        77.0  \n",
       "11093   2006-04-05           5.4        48.0  "
      ]
     },
     "execution_count": 10,
     "metadata": {},
     "output_type": "execute_result"
    }
   ],
   "source": [
    "data[data.overview=='No overview found.']"
   ]
  },
  {
   "cell_type": "markdown",
   "metadata": {
    "id": "0Ew3T6ZIZVWs"
   },
   "source": [
    "# **2) Tiền xử lý dữ liệu tập Movies**\n",
    "---"
   ]
  },
  {
   "cell_type": "markdown",
   "metadata": {
    "id": "3dBFzSbb9rHM"
   },
   "source": [
    "## **2.1) Chuẩn hóa dữ liệu:**\n",
    "---\n",
    "* Kiểm tra dữ liệu null của các thuộc tính\n",
    "* Loại bỏ các bộ film có thuộc tín null\n",
    "* Sắp xếp lại các bộ film theo ngày phát hành"
   ]
  },
  {
   "cell_type": "code",
   "execution_count": 12,
   "metadata": {
    "colab": {
     "base_uri": "https://localhost:8080/"
    },
    "id": "ceRi0y6m9qtV",
    "outputId": "08c22543-06d8-4098-d1bf-daf33de2c716"
   },
   "outputs": [
    {
     "name": "stdout",
     "output_type": "stream",
     "text": [
      "Số lượng missing data trong file dữ liệu:\n",
      "adult              0\n",
      "original_title     0\n",
      "overview          63\n",
      "release_date       2\n",
      "vote_average       0\n",
      "vote_count         0\n",
      "dtype: int64\n"
     ]
    }
   ],
   "source": [
    "#Thống kê số liệu missing trong Data frame\n",
    "#Theo từng cột\n",
    "print('Số lượng missing data trong file dữ liệu:')\n",
    "print(data.isnull().sum())"
   ]
  },
  {
   "cell_type": "code",
   "execution_count": 13,
   "metadata": {},
   "outputs": [
    {
     "data": {
      "text/html": [
       "<div>\n",
       "<style scoped>\n",
       "    .dataframe tbody tr th:only-of-type {\n",
       "        vertical-align: middle;\n",
       "    }\n",
       "\n",
       "    .dataframe tbody tr th {\n",
       "        vertical-align: top;\n",
       "    }\n",
       "\n",
       "    .dataframe thead th {\n",
       "        text-align: right;\n",
       "    }\n",
       "</style>\n",
       "<table border=\"1\" class=\"dataframe\">\n",
       "  <thead>\n",
       "    <tr style=\"text-align: right;\">\n",
       "      <th></th>\n",
       "      <th>adult</th>\n",
       "      <th>original_title</th>\n",
       "      <th>overview</th>\n",
       "      <th>release_date</th>\n",
       "      <th>vote_average</th>\n",
       "      <th>vote_count</th>\n",
       "    </tr>\n",
       "  </thead>\n",
       "  <tbody>\n",
       "    <tr>\n",
       "      <th>6728</th>\n",
       "      <td>False</td>\n",
       "      <td>Fuga de Cerebros</td>\n",
       "      <td>NaN</td>\n",
       "      <td>2009-01-01</td>\n",
       "      <td>5.5</td>\n",
       "      <td>42.0</td>\n",
       "    </tr>\n",
       "    <tr>\n",
       "      <th>8983</th>\n",
       "      <td>False</td>\n",
       "      <td>Les trois frères : Le retour</td>\n",
       "      <td>NaN</td>\n",
       "      <td>2014-02-12</td>\n",
       "      <td>5.0</td>\n",
       "      <td>110.0</td>\n",
       "    </tr>\n",
       "    <tr>\n",
       "      <th>9017</th>\n",
       "      <td>False</td>\n",
       "      <td>Prêt à tout</td>\n",
       "      <td>NaN</td>\n",
       "      <td>2014-01-21</td>\n",
       "      <td>5.4</td>\n",
       "      <td>55.0</td>\n",
       "    </tr>\n",
       "    <tr>\n",
       "      <th>9282</th>\n",
       "      <td>False</td>\n",
       "      <td>L'Italien</td>\n",
       "      <td>NaN</td>\n",
       "      <td>2010-07-07</td>\n",
       "      <td>5.5</td>\n",
       "      <td>53.0</td>\n",
       "    </tr>\n",
       "    <tr>\n",
       "      <th>9626</th>\n",
       "      <td>False</td>\n",
       "      <td>Ricky e Barabba</td>\n",
       "      <td>NaN</td>\n",
       "      <td>1992-12-19</td>\n",
       "      <td>5.7</td>\n",
       "      <td>41.0</td>\n",
       "    </tr>\n",
       "    <tr>\n",
       "      <th>...</th>\n",
       "      <td>...</td>\n",
       "      <td>...</td>\n",
       "      <td>...</td>\n",
       "      <td>...</td>\n",
       "      <td>...</td>\n",
       "      <td>...</td>\n",
       "    </tr>\n",
       "    <tr>\n",
       "      <th>12014</th>\n",
       "      <td>False</td>\n",
       "      <td>Omicidio all'italiana</td>\n",
       "      <td>NaN</td>\n",
       "      <td>2017-03-02</td>\n",
       "      <td>6.3</td>\n",
       "      <td>69.0</td>\n",
       "    </tr>\n",
       "    <tr>\n",
       "      <th>12074</th>\n",
       "      <td>False</td>\n",
       "      <td>Halal Police d'Etat</td>\n",
       "      <td>NaN</td>\n",
       "      <td>2011-02-16</td>\n",
       "      <td>4.5</td>\n",
       "      <td>35.0</td>\n",
       "    </tr>\n",
       "    <tr>\n",
       "      <th>12123</th>\n",
       "      <td>False</td>\n",
       "      <td>Viva l'Italia</td>\n",
       "      <td>NaN</td>\n",
       "      <td>2012-10-25</td>\n",
       "      <td>6.1</td>\n",
       "      <td>57.0</td>\n",
       "    </tr>\n",
       "    <tr>\n",
       "      <th>12127</th>\n",
       "      <td>False</td>\n",
       "      <td>Notte prima degli esami - Oggi</td>\n",
       "      <td>NaN</td>\n",
       "      <td>2007-02-14</td>\n",
       "      <td>5.0</td>\n",
       "      <td>137.0</td>\n",
       "    </tr>\n",
       "    <tr>\n",
       "      <th>12155</th>\n",
       "      <td>False</td>\n",
       "      <td>Questa notte è ancora nostra</td>\n",
       "      <td>NaN</td>\n",
       "      <td>2008-03-19</td>\n",
       "      <td>5.5</td>\n",
       "      <td>31.0</td>\n",
       "    </tr>\n",
       "  </tbody>\n",
       "</table>\n",
       "<p>63 rows × 6 columns</p>\n",
       "</div>"
      ],
      "text/plain": [
       "       adult                  original_title overview release_date  \\\n",
       "6728   False                Fuga de Cerebros      NaN   2009-01-01   \n",
       "8983   False    Les trois frères : Le retour      NaN   2014-02-12   \n",
       "9017   False                     Prêt à tout      NaN   2014-01-21   \n",
       "9282   False                       L'Italien      NaN   2010-07-07   \n",
       "9626   False                 Ricky e Barabba      NaN   1992-12-19   \n",
       "...      ...                             ...      ...          ...   \n",
       "12014  False           Omicidio all'italiana      NaN   2017-03-02   \n",
       "12074  False             Halal Police d'Etat      NaN   2011-02-16   \n",
       "12123  False                   Viva l'Italia      NaN   2012-10-25   \n",
       "12127  False  Notte prima degli esami - Oggi      NaN   2007-02-14   \n",
       "12155  False    Questa notte è ancora nostra      NaN   2008-03-19   \n",
       "\n",
       "       vote_average  vote_count  \n",
       "6728            5.5        42.0  \n",
       "8983            5.0       110.0  \n",
       "9017            5.4        55.0  \n",
       "9282            5.5        53.0  \n",
       "9626            5.7        41.0  \n",
       "...             ...         ...  \n",
       "12014           6.3        69.0  \n",
       "12074           4.5        35.0  \n",
       "12123           6.1        57.0  \n",
       "12127           5.0       137.0  \n",
       "12155           5.5        31.0  \n",
       "\n",
       "[63 rows x 6 columns]"
      ]
     },
     "execution_count": 13,
     "metadata": {},
     "output_type": "execute_result"
    }
   ],
   "source": [
    "#Liệt kê các bộ phim có thuộc tính tóm tắt là rỗng:\n",
    "data[data['overview'].isnull()==True]"
   ]
  },
  {
   "cell_type": "code",
   "execution_count": 14,
   "metadata": {
    "colab": {
     "base_uri": "https://localhost:8080/"
    },
    "id": "Rtca35At-rau",
    "outputId": "003c578b-8b95-4c60-fd83-6e7fe6eaf6f8"
   },
   "outputs": [
    {
     "name": "stdout",
     "output_type": "stream",
     "text": [
      "<class 'pandas.core.frame.DataFrame'>\n",
      "Int64Index: 12117 entries, 0 to 12181\n",
      "Data columns (total 6 columns):\n",
      " #   Column          Non-Null Count  Dtype  \n",
      "---  ------          --------------  -----  \n",
      " 0   adult           12117 non-null  bool   \n",
      " 1   original_title  12117 non-null  object \n",
      " 2   overview        12117 non-null  object \n",
      " 3   release_date    12117 non-null  object \n",
      " 4   vote_average    12117 non-null  float64\n",
      " 5   vote_count      12117 non-null  float64\n",
      "dtypes: bool(1), float64(2), object(3)\n",
      "memory usage: 579.8+ KB\n"
     ]
    }
   ],
   "source": [
    "#Xóa tất cả các bộ film có chứa thuộc tính null\n",
    "data.dropna(axis=0,how='any',inplace=True)\n",
    "data.info()"
   ]
  },
  {
   "cell_type": "code",
   "execution_count": 15,
   "metadata": {
    "colab": {
     "base_uri": "https://localhost:8080/",
     "height": 204
    },
    "id": "pdR6J3KKYAQQ",
    "outputId": "f1aaf46c-901b-4031-a864-d0cc7ddb9bfe"
   },
   "outputs": [
    {
     "data": {
      "text/html": [
       "<div>\n",
       "<style scoped>\n",
       "    .dataframe tbody tr th:only-of-type {\n",
       "        vertical-align: middle;\n",
       "    }\n",
       "\n",
       "    .dataframe tbody tr th {\n",
       "        vertical-align: top;\n",
       "    }\n",
       "\n",
       "    .dataframe thead th {\n",
       "        text-align: right;\n",
       "    }\n",
       "</style>\n",
       "<table border=\"1\" class=\"dataframe\">\n",
       "  <thead>\n",
       "    <tr style=\"text-align: right;\">\n",
       "      <th></th>\n",
       "      <th>adult</th>\n",
       "      <th>original_title</th>\n",
       "      <th>overview</th>\n",
       "      <th>release_date</th>\n",
       "      <th>vote_average</th>\n",
       "      <th>vote_count</th>\n",
       "    </tr>\n",
       "  </thead>\n",
       "  <tbody>\n",
       "    <tr>\n",
       "      <th>9712</th>\n",
       "      <td>False</td>\n",
       "      <td>La Sortie de l'Usine Lumière à Lyon</td>\n",
       "      <td>Working men and women leave the Lumière factor...</td>\n",
       "      <td>1895-06-10</td>\n",
       "      <td>6.2</td>\n",
       "      <td>52.0</td>\n",
       "    </tr>\n",
       "    <tr>\n",
       "      <th>9272</th>\n",
       "      <td>False</td>\n",
       "      <td>Arroseur et arrosé</td>\n",
       "      <td>A gardener is watering his flowers, when a mis...</td>\n",
       "      <td>1895-12-27</td>\n",
       "      <td>7.0</td>\n",
       "      <td>44.0</td>\n",
       "    </tr>\n",
       "    <tr>\n",
       "      <th>8291</th>\n",
       "      <td>False</td>\n",
       "      <td>L'arrivée d'un train en gare de La Ciotat</td>\n",
       "      <td>A group of people are standing along the platf...</td>\n",
       "      <td>1896-01-25</td>\n",
       "      <td>6.9</td>\n",
       "      <td>87.0</td>\n",
       "    </tr>\n",
       "    <tr>\n",
       "      <th>5035</th>\n",
       "      <td>False</td>\n",
       "      <td>Le Voyage dans la Lune</td>\n",
       "      <td>A Trip to The Moon is a science fiction film f...</td>\n",
       "      <td>1902-09-01</td>\n",
       "      <td>7.9</td>\n",
       "      <td>314.0</td>\n",
       "    </tr>\n",
       "    <tr>\n",
       "      <th>5634</th>\n",
       "      <td>False</td>\n",
       "      <td>The Great Train Robbery</td>\n",
       "      <td>The clerk at the train station is assaulted an...</td>\n",
       "      <td>1903-12-01</td>\n",
       "      <td>7.1</td>\n",
       "      <td>116.0</td>\n",
       "    </tr>\n",
       "  </tbody>\n",
       "</table>\n",
       "</div>"
      ],
      "text/plain": [
       "      adult                             original_title  \\\n",
       "9712  False        La Sortie de l'Usine Lumière à Lyon   \n",
       "9272  False                         Arroseur et arrosé   \n",
       "8291  False  L'arrivée d'un train en gare de La Ciotat   \n",
       "5035  False                     Le Voyage dans la Lune   \n",
       "5634  False                    The Great Train Robbery   \n",
       "\n",
       "                                               overview release_date  \\\n",
       "9712  Working men and women leave the Lumière factor...   1895-06-10   \n",
       "9272  A gardener is watering his flowers, when a mis...   1895-12-27   \n",
       "8291  A group of people are standing along the platf...   1896-01-25   \n",
       "5035  A Trip to The Moon is a science fiction film f...   1902-09-01   \n",
       "5634  The clerk at the train station is assaulted an...   1903-12-01   \n",
       "\n",
       "      vote_average  vote_count  \n",
       "9712           6.2        52.0  \n",
       "9272           7.0        44.0  \n",
       "8291           6.9        87.0  \n",
       "5035           7.9       314.0  \n",
       "5634           7.1       116.0  "
      ]
     },
     "execution_count": 15,
     "metadata": {},
     "output_type": "execute_result"
    }
   ],
   "source": [
    "#Sắp xếp lại dữ liệu theo ngày phát hành\n",
    "data.sort_values('release_date',axis=0,inplace=True)\n",
    "data.head()"
   ]
  },
  {
   "cell_type": "code",
   "execution_count": 16,
   "metadata": {
    "colab": {
     "base_uri": "https://localhost:8080/",
     "height": 204
    },
    "id": "wrC3yoaPYXhU",
    "outputId": "6030c8b8-26b8-4505-c028-f77b40a57af5"
   },
   "outputs": [
    {
     "data": {
      "text/html": [
       "<div>\n",
       "<style scoped>\n",
       "    .dataframe tbody tr th:only-of-type {\n",
       "        vertical-align: middle;\n",
       "    }\n",
       "\n",
       "    .dataframe tbody tr th {\n",
       "        vertical-align: top;\n",
       "    }\n",
       "\n",
       "    .dataframe thead th {\n",
       "        text-align: right;\n",
       "    }\n",
       "</style>\n",
       "<table border=\"1\" class=\"dataframe\">\n",
       "  <thead>\n",
       "    <tr style=\"text-align: right;\">\n",
       "      <th></th>\n",
       "      <th>adult</th>\n",
       "      <th>original_title</th>\n",
       "      <th>overview</th>\n",
       "      <th>release_date</th>\n",
       "      <th>vote_average</th>\n",
       "      <th>vote_count</th>\n",
       "    </tr>\n",
       "  </thead>\n",
       "  <tbody>\n",
       "    <tr>\n",
       "      <th>12129</th>\n",
       "      <td>False</td>\n",
       "      <td>Good Time</td>\n",
       "      <td>A bank robber tries to avoid the law closing i...</td>\n",
       "      <td>2017-08-11</td>\n",
       "      <td>7.3</td>\n",
       "      <td>46.0</td>\n",
       "    </tr>\n",
       "    <tr>\n",
       "      <th>12106</th>\n",
       "      <td>False</td>\n",
       "      <td>What Happened to Monday</td>\n",
       "      <td>In a world where families are limited to one c...</td>\n",
       "      <td>2017-08-18</td>\n",
       "      <td>7.3</td>\n",
       "      <td>598.0</td>\n",
       "    </tr>\n",
       "    <tr>\n",
       "      <th>11826</th>\n",
       "      <td>False</td>\n",
       "      <td>Science Fiction Volume One: The Osiris Child</td>\n",
       "      <td>Set in the future in a time of interplanetary ...</td>\n",
       "      <td>2017-08-31</td>\n",
       "      <td>5.4</td>\n",
       "      <td>55.0</td>\n",
       "    </tr>\n",
       "    <tr>\n",
       "      <th>11338</th>\n",
       "      <td>False</td>\n",
       "      <td>Leatherface</td>\n",
       "      <td>A young nurse is kidnapped by a group of viole...</td>\n",
       "      <td>2017-09-14</td>\n",
       "      <td>5.7</td>\n",
       "      <td>62.0</td>\n",
       "    </tr>\n",
       "    <tr>\n",
       "      <th>9820</th>\n",
       "      <td>False</td>\n",
       "      <td>Avatar 2</td>\n",
       "      <td>A sequel to Avatar (2009).</td>\n",
       "      <td>2020-12-16</td>\n",
       "      <td>0.0</td>\n",
       "      <td>58.0</td>\n",
       "    </tr>\n",
       "  </tbody>\n",
       "</table>\n",
       "</div>"
      ],
      "text/plain": [
       "       adult                                original_title  \\\n",
       "12129  False                                     Good Time   \n",
       "12106  False                       What Happened to Monday   \n",
       "11826  False  Science Fiction Volume One: The Osiris Child   \n",
       "11338  False                                   Leatherface   \n",
       "9820   False                                      Avatar 2   \n",
       "\n",
       "                                                overview release_date  \\\n",
       "12129  A bank robber tries to avoid the law closing i...   2017-08-11   \n",
       "12106  In a world where families are limited to one c...   2017-08-18   \n",
       "11826  Set in the future in a time of interplanetary ...   2017-08-31   \n",
       "11338  A young nurse is kidnapped by a group of viole...   2017-09-14   \n",
       "9820                          A sequel to Avatar (2009).   2020-12-16   \n",
       "\n",
       "       vote_average  vote_count  \n",
       "12129           7.3        46.0  \n",
       "12106           7.3       598.0  \n",
       "11826           5.4        55.0  \n",
       "11338           5.7        62.0  \n",
       "9820            0.0        58.0  "
      ]
     },
     "execution_count": 16,
     "metadata": {},
     "output_type": "execute_result"
    }
   ],
   "source": [
    "data.tail()"
   ]
  },
  {
   "cell_type": "markdown",
   "metadata": {
    "id": "P005jCFUaCqX"
   },
   "source": [
    "## **2.2) Loại bỏ các bộ film trùng tên trong tập dữ liệu**\n",
    "---\n",
    "Thực hiện xóa các bộ film trùng tên trong tập dữ liệu chỉ giữ lại bộ film có số lượng vote cao nhất"
   ]
  },
  {
   "cell_type": "code",
   "execution_count": 17,
   "metadata": {
    "colab": {
     "base_uri": "https://localhost:8080/"
    },
    "id": "CRZkxdx4aBxW",
    "outputId": "b593ba2c-0c25-48db-b893-1831adea42ee"
   },
   "outputs": [
    {
     "data": {
      "text/plain": [
       "Wuthering Heights                       4\n",
       "A Christmas Carol                       4\n",
       "Hamlet                                  4\n",
       "The Mummy                               4\n",
       "Frankenstein                            4\n",
       "                                       ..\n",
       "The Lion King 2: Simba's Pride          1\n",
       "La leggenda del pianista sull'oceano    1\n",
       "Still Crazy                             1\n",
       "American History X                      1\n",
       "Avatar 2                                1\n",
       "Name: original_title, Length: 11764, dtype: int64"
      ]
     },
     "execution_count": 17,
     "metadata": {},
     "output_type": "execute_result"
    }
   ],
   "source": [
    "#Thống kê các bộ film trùng tên trong tập dữ liệu\n",
    "data['original_title'].value_counts()"
   ]
  },
  {
   "cell_type": "code",
   "execution_count": 18,
   "metadata": {
    "colab": {
     "base_uri": "https://localhost:8080/",
     "height": 297
    },
    "id": "YeFpN2KbagtA",
    "outputId": "62051ff3-b1f8-4583-ebd5-34f43b577ddd"
   },
   "outputs": [
    {
     "data": {
      "text/html": [
       "<div>\n",
       "<style scoped>\n",
       "    .dataframe tbody tr th:only-of-type {\n",
       "        vertical-align: middle;\n",
       "    }\n",
       "\n",
       "    .dataframe tbody tr th {\n",
       "        vertical-align: top;\n",
       "    }\n",
       "\n",
       "    .dataframe thead th {\n",
       "        text-align: right;\n",
       "    }\n",
       "</style>\n",
       "<table border=\"1\" class=\"dataframe\">\n",
       "  <thead>\n",
       "    <tr style=\"text-align: right;\">\n",
       "      <th></th>\n",
       "      <th>adult</th>\n",
       "      <th>original_title</th>\n",
       "      <th>overview</th>\n",
       "      <th>release_date</th>\n",
       "      <th>vote_average</th>\n",
       "      <th>vote_count</th>\n",
       "    </tr>\n",
       "  </thead>\n",
       "  <tbody>\n",
       "    <tr>\n",
       "      <th>1075</th>\n",
       "      <td>False</td>\n",
       "      <td>Hamlet</td>\n",
       "      <td>Winner of four Academy Awards, including Best ...</td>\n",
       "      <td>1948-03-25</td>\n",
       "      <td>7.1</td>\n",
       "      <td>48.0</td>\n",
       "    </tr>\n",
       "    <tr>\n",
       "      <th>2192</th>\n",
       "      <td>False</td>\n",
       "      <td>Hamlet</td>\n",
       "      <td>Hamlet, Prince of Denmark, finds out that his ...</td>\n",
       "      <td>1990-12-19</td>\n",
       "      <td>6.7</td>\n",
       "      <td>95.0</td>\n",
       "    </tr>\n",
       "    <tr>\n",
       "      <th>843</th>\n",
       "      <td>False</td>\n",
       "      <td>Hamlet</td>\n",
       "      <td>Hamlet, Prince of Denmark, returns home to fin...</td>\n",
       "      <td>1996-12-25</td>\n",
       "      <td>7.3</td>\n",
       "      <td>118.0</td>\n",
       "    </tr>\n",
       "    <tr>\n",
       "      <th>2122</th>\n",
       "      <td>False</td>\n",
       "      <td>Hamlet</td>\n",
       "      <td>Modern day adaptation of Shakespeare's immorta...</td>\n",
       "      <td>2000-05-12</td>\n",
       "      <td>6.0</td>\n",
       "      <td>35.0</td>\n",
       "    </tr>\n",
       "  </tbody>\n",
       "</table>\n",
       "</div>"
      ],
      "text/plain": [
       "      adult original_title                                           overview  \\\n",
       "1075  False         Hamlet  Winner of four Academy Awards, including Best ...   \n",
       "2192  False         Hamlet  Hamlet, Prince of Denmark, finds out that his ...   \n",
       "843   False         Hamlet  Hamlet, Prince of Denmark, returns home to fin...   \n",
       "2122  False         Hamlet  Modern day adaptation of Shakespeare's immorta...   \n",
       "\n",
       "     release_date  vote_average  vote_count  \n",
       "1075   1948-03-25           7.1        48.0  \n",
       "2192   1990-12-19           6.7        95.0  \n",
       "843    1996-12-25           7.3       118.0  \n",
       "2122   2000-05-12           6.0        35.0  "
      ]
     },
     "execution_count": 18,
     "metadata": {},
     "output_type": "execute_result"
    }
   ],
   "source": [
    "data.loc[data['original_title']=='Hamlet']"
   ]
  },
  {
   "cell_type": "code",
   "execution_count": 19,
   "metadata": {
    "colab": {
     "base_uri": "https://localhost:8080/"
    },
    "id": "K39M6JnGbr6J",
    "outputId": "52de88b3-b30b-410e-ab8c-e2e5414bd921"
   },
   "outputs": [
    {
     "name": "stdout",
     "output_type": "stream",
     "text": [
      "<class 'pandas.core.frame.DataFrame'>\n",
      "Int64Index: 11764 entries, 5351 to 7116\n",
      "Data columns (total 6 columns):\n",
      " #   Column          Non-Null Count  Dtype  \n",
      "---  ------          --------------  -----  \n",
      " 0   adult           11764 non-null  bool   \n",
      " 1   original_title  11764 non-null  object \n",
      " 2   overview        11764 non-null  object \n",
      " 3   release_date    11764 non-null  object \n",
      " 4   vote_average    11764 non-null  float64\n",
      " 5   vote_count      11764 non-null  float64\n",
      "dtypes: bool(1), float64(2), object(3)\n",
      "memory usage: 562.9+ KB\n"
     ]
    }
   ],
   "source": [
    "#Sắp xếp film theo thuộc tính vote_count và xóa các film trùng tên, \n",
    "#giữ lại film có lượt vote lớn hơn\n",
    "data.sort_values('vote_count',ascending=True,inplace=True)\n",
    "data.drop_duplicates(['original_title'],keep='last',inplace=True)\n",
    "data.info()"
   ]
  },
  {
   "cell_type": "code",
   "execution_count": 20,
   "metadata": {
    "colab": {
     "base_uri": "https://localhost:8080/",
     "height": 80
    },
    "id": "6keRGB3wcQ_K",
    "outputId": "0ca8955a-86b8-4608-8d3d-b957a6e4a96b"
   },
   "outputs": [
    {
     "data": {
      "text/html": [
       "<div>\n",
       "<style scoped>\n",
       "    .dataframe tbody tr th:only-of-type {\n",
       "        vertical-align: middle;\n",
       "    }\n",
       "\n",
       "    .dataframe tbody tr th {\n",
       "        vertical-align: top;\n",
       "    }\n",
       "\n",
       "    .dataframe thead th {\n",
       "        text-align: right;\n",
       "    }\n",
       "</style>\n",
       "<table border=\"1\" class=\"dataframe\">\n",
       "  <thead>\n",
       "    <tr style=\"text-align: right;\">\n",
       "      <th></th>\n",
       "      <th>adult</th>\n",
       "      <th>original_title</th>\n",
       "      <th>overview</th>\n",
       "      <th>release_date</th>\n",
       "      <th>vote_average</th>\n",
       "      <th>vote_count</th>\n",
       "    </tr>\n",
       "  </thead>\n",
       "  <tbody>\n",
       "    <tr>\n",
       "      <th>843</th>\n",
       "      <td>False</td>\n",
       "      <td>Hamlet</td>\n",
       "      <td>Hamlet, Prince of Denmark, returns home to fin...</td>\n",
       "      <td>1996-12-25</td>\n",
       "      <td>7.3</td>\n",
       "      <td>118.0</td>\n",
       "    </tr>\n",
       "  </tbody>\n",
       "</table>\n",
       "</div>"
      ],
      "text/plain": [
       "     adult original_title                                           overview  \\\n",
       "843  False         Hamlet  Hamlet, Prince of Denmark, returns home to fin...   \n",
       "\n",
       "    release_date  vote_average  vote_count  \n",
       "843   1996-12-25           7.3       118.0  "
      ]
     },
     "execution_count": 20,
     "metadata": {},
     "output_type": "execute_result"
    }
   ],
   "source": [
    "#check lại dữ liệu sau khi xử lý:\n",
    "data.loc[data['original_title']=='Hamlet']"
   ]
  },
  {
   "cell_type": "code",
   "execution_count": 21,
   "metadata": {
    "colab": {
     "base_uri": "https://localhost:8080/"
    },
    "id": "JUBlX7L7cV5s",
    "outputId": "1f90af49-e0a0-4b50-8fc0-0fe44b2e7194"
   },
   "outputs": [
    {
     "data": {
      "text/plain": [
       "Panic in Year Zero!                1\n",
       "Hot Girls Wanted                   1\n",
       "Behaving Badly                     1\n",
       "Død Snø 2                          1\n",
       "Les seigneurs                      1\n",
       "                                  ..\n",
       "Atlas Shrugged Part I              1\n",
       "Scooby-Doo! and the Cyber Chase    1\n",
       "I'm Gonna Git You Sucka            1\n",
       "Sex Ed                             1\n",
       "Inception                          1\n",
       "Name: original_title, Length: 11764, dtype: int64"
      ]
     },
     "execution_count": 21,
     "metadata": {},
     "output_type": "execute_result"
    }
   ],
   "source": [
    "#Thống kê các bộ film trùng tên trong tập dữ liệu sau xử lý\n",
    "data['original_title'].value_counts()"
   ]
  },
  {
   "cell_type": "markdown",
   "metadata": {
    "id": "XvgTl-Excfxt"
   },
   "source": [
    "## **2.3) Xử lý các bộ film không có tóm tắt film**\n",
    "---"
   ]
  },
  {
   "cell_type": "code",
   "execution_count": 22,
   "metadata": {
    "colab": {
     "base_uri": "https://localhost:8080/"
    },
    "id": "zIHAZtoVdGue",
    "outputId": "3de8fc8c-57a6-4495-ff0f-6c1844438847"
   },
   "outputs": [
    {
     "data": {
      "text/plain": [
       "No overview found.                                                                                                                                                                                                                                                                                                                                                                                                                                                                                                                                                                                                                                                               8\n",
       "A few funny little novels about different aspects of life.                                                                                                                                                                                                                                                                                                                                                                                                                                                                                                                                                                                                                       3\n",
       "While on a fishing trip, Harry Baldwin (Ray Milland) and his family hear an explosion and realize that Los Angeles has been leveled by a nuclear attack. Looters and killers are everywhere. Escaping to the hills with his family, he sets about the business of surviving in a world where, he knows, the old ideals of humanity will be first casualties.                                                                                                                                                                                                                                                                                                                     1\n",
       "A little girl discovers dreams can come true if you really believe. Six-year-old Susan Walker has doubts about childhood's most enduring miracle - Santa Claus. Her mother told her the 'secret' about Santa a long time ago. But after meeting a special department store Santa who's convinced he's the real thing, Susan is given the most precious gift of all something to believe in.                                                                                                                                                                                                                                                                                      1\n",
       "A young prosecutor in postwar West Germany investigates a massive conspiracy to cover up the Nazi pasts of prominent public figures.                                                                                                                                                                                                                                                                                                                                                                                                                                                                                                                                             1\n",
       "                                                                                                                                                                                                                                                                                                                                                                                                                                                                                                                                                                                                                                                                                ..\n",
       "A traumatized young man abducts Korean leaders, believing they're toxic reptilian aliens - a fifth column launching a takeover of beloved Earth. Stumped law enforcement geniuses half-seriously hire a disgraced, disheveled private detective with a long-ago history of super-crime solving. The alienated South Korean youngster Lee Byeong-gu builds an isolated basement command post/torture chamber/film studio to force the awful truth out of the slimy, uncooperative politicians and businesspeople, then alert the public. Byeong-gu is helped by his devoted girlfriend, who buys his theories, but wonders if his horrible childhood has colored his thinking.    1\n",
       "After his family is killed by a Serbian gangster with international interests. NYC detective Nick goes to S.E. Asia and teams up with a Thai detective to get revenge and destroy the syndicates human trafficking network.                                                                                                                                                                                                                                                                                                                                                                                                                                                      1\n",
       "Nicole and Chase live next door to each other but are worlds apart. However, they plot a scheme to date each other in order to attract the interest and jealousy of their respective romantic prey. But in the mist of planning a gala centennial celebration, Nicole and Chase find that the one they always wanted was closer than they ever thought.                                                                                                                                                                                                                                                                                                                          1\n",
       "The true story of the \"Flying Sikh\" world champion runner and Olympian Milkha Singh who overcame the massacre of his family, civil war during the India-Pakistan partition, and homelessness to become one of India's most iconic athletes.                                                                                                                                                                                                                                                                                                                                                                                                                                      1\n",
       "Cobb, a skilled thief who commits corporate espionage by infiltrating the subconscious of his targets is offered a chance to regain his old life as payment for a task considered to be impossible: \"inception\", the implantation of another person's idea into a target's subconscious.                                                                                                                                                                                                                                                                                                                                                                                         1\n",
       "Name: overview, Length: 11755, dtype: int64"
      ]
     },
     "execution_count": 22,
     "metadata": {},
     "output_type": "execute_result"
    }
   ],
   "source": [
    "#Thống kê các dữ liệu trùng nhau\n",
    "data['overview'].value_counts()"
   ]
  },
  {
   "cell_type": "code",
   "execution_count": 23,
   "metadata": {
    "colab": {
     "base_uri": "https://localhost:8080/",
     "height": 419
    },
    "id": "b-pzalLndG89",
    "outputId": "b768859f-9a5d-437a-8d92-f49452a5085c"
   },
   "outputs": [
    {
     "data": {
      "text/html": [
       "<div>\n",
       "<style scoped>\n",
       "    .dataframe tbody tr th:only-of-type {\n",
       "        vertical-align: middle;\n",
       "    }\n",
       "\n",
       "    .dataframe tbody tr th {\n",
       "        vertical-align: top;\n",
       "    }\n",
       "\n",
       "    .dataframe thead th {\n",
       "        text-align: right;\n",
       "    }\n",
       "</style>\n",
       "<table border=\"1\" class=\"dataframe\">\n",
       "  <thead>\n",
       "    <tr style=\"text-align: right;\">\n",
       "      <th></th>\n",
       "      <th>adult</th>\n",
       "      <th>original_title</th>\n",
       "      <th>overview</th>\n",
       "      <th>release_date</th>\n",
       "      <th>vote_average</th>\n",
       "      <th>vote_count</th>\n",
       "    </tr>\n",
       "  </thead>\n",
       "  <tbody>\n",
       "    <tr>\n",
       "      <th>10516</th>\n",
       "      <td>False</td>\n",
       "      <td>Lezioni di cioccolato</td>\n",
       "      <td>No overview found.</td>\n",
       "      <td>2007-11-23</td>\n",
       "      <td>5.8</td>\n",
       "      <td>42.0</td>\n",
       "    </tr>\n",
       "    <tr>\n",
       "      <th>10103</th>\n",
       "      <td>False</td>\n",
       "      <td>7 Zwerge - Der Wald ist nicht genug</td>\n",
       "      <td>No overview found.</td>\n",
       "      <td>2006-10-25</td>\n",
       "      <td>4.9</td>\n",
       "      <td>44.0</td>\n",
       "    </tr>\n",
       "    <tr>\n",
       "      <th>11093</th>\n",
       "      <td>False</td>\n",
       "      <td>Jean-Philippe</td>\n",
       "      <td>No overview found.</td>\n",
       "      <td>2006-04-05</td>\n",
       "      <td>5.4</td>\n",
       "      <td>48.0</td>\n",
       "    </tr>\n",
       "    <tr>\n",
       "      <th>8078</th>\n",
       "      <td>False</td>\n",
       "      <td>Mais qui a tué Pamela Rose ?</td>\n",
       "      <td>No overview found.</td>\n",
       "      <td>2003-06-04</td>\n",
       "      <td>6.6</td>\n",
       "      <td>62.0</td>\n",
       "    </tr>\n",
       "    <tr>\n",
       "      <th>5024</th>\n",
       "      <td>False</td>\n",
       "      <td>Tanguy</td>\n",
       "      <td>No overview found.</td>\n",
       "      <td>2001-11-21</td>\n",
       "      <td>5.8</td>\n",
       "      <td>70.0</td>\n",
       "    </tr>\n",
       "    <tr>\n",
       "      <th>10612</th>\n",
       "      <td>False</td>\n",
       "      <td>Fantozzi subisce ancora</td>\n",
       "      <td>No overview found.</td>\n",
       "      <td>1983-01-01</td>\n",
       "      <td>6.4</td>\n",
       "      <td>77.0</td>\n",
       "    </tr>\n",
       "    <tr>\n",
       "      <th>9721</th>\n",
       "      <td>False</td>\n",
       "      <td>Grande, grosso e Verdone</td>\n",
       "      <td>No overview found.</td>\n",
       "      <td>2008-03-07</td>\n",
       "      <td>5.6</td>\n",
       "      <td>78.0</td>\n",
       "    </tr>\n",
       "    <tr>\n",
       "      <th>10566</th>\n",
       "      <td>False</td>\n",
       "      <td>Il cosmo sul comò</td>\n",
       "      <td>No overview found.</td>\n",
       "      <td>2008-12-19</td>\n",
       "      <td>5.0</td>\n",
       "      <td>156.0</td>\n",
       "    </tr>\n",
       "  </tbody>\n",
       "</table>\n",
       "</div>"
      ],
      "text/plain": [
       "       adult                       original_title            overview  \\\n",
       "10516  False                Lezioni di cioccolato  No overview found.   \n",
       "10103  False  7 Zwerge - Der Wald ist nicht genug  No overview found.   \n",
       "11093  False                        Jean-Philippe  No overview found.   \n",
       "8078   False         Mais qui a tué Pamela Rose ?  No overview found.   \n",
       "5024   False                               Tanguy  No overview found.   \n",
       "10612  False              Fantozzi subisce ancora  No overview found.   \n",
       "9721   False             Grande, grosso e Verdone  No overview found.   \n",
       "10566  False                    Il cosmo sul comò  No overview found.   \n",
       "\n",
       "      release_date  vote_average  vote_count  \n",
       "10516   2007-11-23           5.8        42.0  \n",
       "10103   2006-10-25           4.9        44.0  \n",
       "11093   2006-04-05           5.4        48.0  \n",
       "8078    2003-06-04           6.6        62.0  \n",
       "5024    2001-11-21           5.8        70.0  \n",
       "10612   1983-01-01           6.4        77.0  \n",
       "9721    2008-03-07           5.6        78.0  \n",
       "10566   2008-12-19           5.0       156.0  "
      ]
     },
     "execution_count": 23,
     "metadata": {},
     "output_type": "execute_result"
    }
   ],
   "source": [
    "#lọc các bộ film có phần tóm tắt là: No overview found, hoặc No Overview, hoăc chuỗi rỗng, hoặc No movie overview available. \n",
    "data.loc[(data['overview']=='No overview found.')].sort_values('overview')"
   ]
  },
  {
   "cell_type": "code",
   "execution_count": 24,
   "metadata": {
    "colab": {
     "base_uri": "https://localhost:8080/"
    },
    "id": "59ZEzOMPeGe0",
    "outputId": "0c507d80-0cf8-437a-e0c8-afb23cade8f3"
   },
   "outputs": [
    {
     "name": "stdout",
     "output_type": "stream",
     "text": [
      "<class 'pandas.core.frame.DataFrame'>\n",
      "Int64Index: 11756 entries, 5351 to 7116\n",
      "Data columns (total 6 columns):\n",
      " #   Column          Non-Null Count  Dtype  \n",
      "---  ------          --------------  -----  \n",
      " 0   adult           11756 non-null  bool   \n",
      " 1   original_title  11756 non-null  object \n",
      " 2   overview        11756 non-null  object \n",
      " 3   release_date    11756 non-null  object \n",
      " 4   vote_average    11756 non-null  float64\n",
      " 5   vote_count      11756 non-null  float64\n",
      "dtypes: bool(1), float64(2), object(3)\n",
      "memory usage: 562.5+ KB\n"
     ]
    }
   ],
   "source": [
    "#Có tất cả 8 bộ film không có dữ liệu tóm tắt film\n",
    "#Xóa các bộ film này\n",
    "data = data.loc[(data['overview']!='No overview found.')]\n",
    "data.info()"
   ]
  },
  {
   "cell_type": "code",
   "execution_count": 25,
   "metadata": {
    "colab": {
     "base_uri": "https://localhost:8080/"
    },
    "id": "vQUGaU2secg2",
    "outputId": "97b69da8-3b77-478d-d3be-a35c3162bce0"
   },
   "outputs": [
    {
     "data": {
      "text/plain": [
       "A few funny little novels about different aspects of life.                                                                                                                                                                                                                                                                                                                                                                                                                                                                                                                                                                                                                       3\n",
       "While on a fishing trip, Harry Baldwin (Ray Milland) and his family hear an explosion and realize that Los Angeles has been leveled by a nuclear attack. Looters and killers are everywhere. Escaping to the hills with his family, he sets about the business of surviving in a world where, he knows, the old ideals of humanity will be first casualties.                                                                                                                                                                                                                                                                                                                     1\n",
       "An agoraphobic psychologist and a female detective must work together to take down a serial killer who copies serial killers from the past.                                                                                                                                                                                                                                                                                                                                                                                                                                                                                                                                      1\n",
       "A young prosecutor in postwar West Germany investigates a massive conspiracy to cover up the Nazi pasts of prominent public figures.                                                                                                                                                                                                                                                                                                                                                                                                                                                                                                                                             1\n",
       "A woman suffers from an unusual illness caused by a flower growing in her lungs.                                                                                                                                                                                                                                                                                                                                                                                                                                                                                                                                                                                                 1\n",
       "                                                                                                                                                                                                                                                                                                                                                                                                                                                                                                                                                                                                                                                                                ..\n",
       "A traumatized young man abducts Korean leaders, believing they're toxic reptilian aliens - a fifth column launching a takeover of beloved Earth. Stumped law enforcement geniuses half-seriously hire a disgraced, disheveled private detective with a long-ago history of super-crime solving. The alienated South Korean youngster Lee Byeong-gu builds an isolated basement command post/torture chamber/film studio to force the awful truth out of the slimy, uncooperative politicians and businesspeople, then alert the public. Byeong-gu is helped by his devoted girlfriend, who buys his theories, but wonders if his horrible childhood has colored his thinking.    1\n",
       "After his family is killed by a Serbian gangster with international interests. NYC detective Nick goes to S.E. Asia and teams up with a Thai detective to get revenge and destroy the syndicates human trafficking network.                                                                                                                                                                                                                                                                                                                                                                                                                                                      1\n",
       "Nicole and Chase live next door to each other but are worlds apart. However, they plot a scheme to date each other in order to attract the interest and jealousy of their respective romantic prey. But in the mist of planning a gala centennial celebration, Nicole and Chase find that the one they always wanted was closer than they ever thought.                                                                                                                                                                                                                                                                                                                          1\n",
       "The true story of the \"Flying Sikh\" world champion runner and Olympian Milkha Singh who overcame the massacre of his family, civil war during the India-Pakistan partition, and homelessness to become one of India's most iconic athletes.                                                                                                                                                                                                                                                                                                                                                                                                                                      1\n",
       "Cobb, a skilled thief who commits corporate espionage by infiltrating the subconscious of his targets is offered a chance to regain his old life as payment for a task considered to be impossible: \"inception\", the implantation of another person's idea into a target's subconscious.                                                                                                                                                                                                                                                                                                                                                                                         1\n",
       "Name: overview, Length: 11754, dtype: int64"
      ]
     },
     "execution_count": 25,
     "metadata": {},
     "output_type": "execute_result"
    }
   ],
   "source": [
    "#Check lại dữ liệu sau khi xử lý phần tóm tắt\n",
    "data['overview'].value_counts()"
   ]
  },
  {
   "cell_type": "markdown",
   "metadata": {
    "id": "s23lO1Zne3Vb"
   },
   "source": [
    "# **2.4) Lưu dữ liệu sau khi đã xử lý ra file**\n",
    "---"
   ]
  },
  {
   "cell_type": "code",
   "execution_count": null,
   "metadata": {
    "id": "FHmP8zbPe-g0"
   },
   "outputs": [],
   "source": [
    "#Lưu dữ liệu ra file Data_Movies_ok.csv\n",
    "data.sort_values(['release_date'],inplace=True)\n",
    "data.reset_index(drop=True,inplace=True)\n",
    "data.to_csv('data/Data_Movies_ok.csv',index=None)"
   ]
  },
  {
   "cell_type": "code",
   "execution_count": null,
   "metadata": {
    "colab": {
     "base_uri": "https://localhost:8080/",
     "height": 142
    },
    "id": "sPbgIdI4erc6",
    "outputId": "e34feae2-9321-46e7-efda-da0f346ea35a"
   },
   "outputs": [],
   "source": [
    "#Có 3 bộ phim tên khác nhau nhưng có cùng tóm tắt phim:\n",
    "data.loc[(data['overview']=='A few funny little novels about different aspects of life.')]"
   ]
  },
  {
   "cell_type": "markdown",
   "metadata": {
    "id": "kOC_WQXXVRb8"
   },
   "source": [
    "# **3) Xây dựng các hệ thống Recommender Systems**\n",
    "---\n",
    "Recommender systems có thể phân thành 3 loại như sau:\n",
    "\n",
    "* **Hệ thống đề xuất dựa trên nội dung (Content-based recommenders):** Hệ thống này sẽ gợi ý các bộ phim tương tự với bộ fim mà người dùng xem. Hệ thống này sử dụng metadata của các bộ film như: Thể loại film, đạo diễn, mô tả film, diễn viên...Ý tưởng chính đằng sau hệ thống đề xuất dựa vào nội dung đó là nếu một người đã thích/xem một bộ film nào đó, thì họ cũng sẽ thích/xem một bộ phim tương tự với bộ phim đã xem. \n",
    "\n",
    "\n",
    "* **Hệ thống lọc cộng tác (Collaborative filtering engines):** Hệ thống này cố gắng dự đoán thông qua đánh giá hoặc ưa thích mà một người dùng đã đưa ra đối với một bộ film dựa trên đánh giá và ưa thích của những người sử dụng khác. Lọc cộng tác không yêu cầu metadata giống như lọc theo nội dung. (Tìm một người xem có các thuộc tính tương đồng với người dùng này và đề xuất các bộ film theo người xem trước đây)\n",
    "\n",
    "* **Hệ thống lai (Hybrid Engine):** Kết hợp các ý tưởng của Content-based recommender và Collaborative filtering để xây dựng một hệ thống đề xuất.\n",
    "\n",
    "<img src='pic/pic4.jpg' width='400px'>"
   ]
  },
  {
   "cell_type": "markdown",
   "metadata": {
    "id": "PSJcbOcPZYa9"
   },
   "source": [
    "## **3.1) Simple Recommenders (Giải quyết trường hợp Cold-Start Problem)**\n",
    "---\n",
    "Lọc ra  10 bộ film (các bộ film nổi bật) trong danh sách film có trong CSDL có tỷ lệ người đánh giá và điểm đánh giá cao để đề xuất cho người dùng xem.\n",
    "\n",
    "<img src='pic/pic5.jpg' width='400px'>\n",
    "\n",
    "Các bộ film được tính trọng số đánh giá (Weighted Rating - WR), và dựa vào trọng số này để lọc ra danh sách các bộ film nổi bật đề xuất cho người xem.\n",
    "\n"
   ]
  },
  {
   "cell_type": "markdown",
   "metadata": {
    "id": "plUvGlLoOmCf"
   },
   "source": [
    "Tính Weighted Rating (WR):\n",
    "\n",
    "**WR = {[v/(v+m) . R] + [m/(v+m) . C]}**\n",
    "\n",
    "* v: Số lượng người vote cho bộ film đó\n",
    "* m: Số lượng người vote tối thiểu yêu cầu đối với 1 bộ film \n",
    "* R: Vote trung bình của bộ film đó\n",
    "* C: vote trung bình của tất cả các bộ film trong tập dữ liệu\n"
   ]
  },
  {
   "cell_type": "code",
   "execution_count": 26,
   "metadata": {
    "colab": {
     "base_uri": "https://localhost:8080/",
     "height": 204
    },
    "id": "lxRQ-Ylh__gZ",
    "outputId": "6981a855-95ce-4f4e-db68-cab82535b85c"
   },
   "outputs": [
    {
     "data": {
      "text/html": [
       "<div>\n",
       "<style scoped>\n",
       "    .dataframe tbody tr th:only-of-type {\n",
       "        vertical-align: middle;\n",
       "    }\n",
       "\n",
       "    .dataframe tbody tr th {\n",
       "        vertical-align: top;\n",
       "    }\n",
       "\n",
       "    .dataframe thead th {\n",
       "        text-align: right;\n",
       "    }\n",
       "</style>\n",
       "<table border=\"1\" class=\"dataframe\">\n",
       "  <thead>\n",
       "    <tr style=\"text-align: right;\">\n",
       "      <th></th>\n",
       "      <th>adult</th>\n",
       "      <th>original_title</th>\n",
       "      <th>overview</th>\n",
       "      <th>release_date</th>\n",
       "      <th>vote_average</th>\n",
       "      <th>vote_count</th>\n",
       "    </tr>\n",
       "  </thead>\n",
       "  <tbody>\n",
       "    <tr>\n",
       "      <th>5351</th>\n",
       "      <td>False</td>\n",
       "      <td>Panic in Year Zero!</td>\n",
       "      <td>While on a fishing trip, Harry Baldwin (Ray Mi...</td>\n",
       "      <td>1962-07-05</td>\n",
       "      <td>5.8</td>\n",
       "      <td>31.0</td>\n",
       "    </tr>\n",
       "    <tr>\n",
       "      <th>3173</th>\n",
       "      <td>False</td>\n",
       "      <td>The Care Bears Movie</td>\n",
       "      <td>The Care Bears have their work cut out for the...</td>\n",
       "      <td>1985-03-23</td>\n",
       "      <td>5.4</td>\n",
       "      <td>31.0</td>\n",
       "    </tr>\n",
       "    <tr>\n",
       "      <th>11382</th>\n",
       "      <td>False</td>\n",
       "      <td>Sin Filtro</td>\n",
       "      <td>When a woman visits a Chinese doctor, she disc...</td>\n",
       "      <td>2016-01-07</td>\n",
       "      <td>6.1</td>\n",
       "      <td>31.0</td>\n",
       "    </tr>\n",
       "    <tr>\n",
       "      <th>2847</th>\n",
       "      <td>False</td>\n",
       "      <td>Intimacy</td>\n",
       "      <td>Jay, a failed musician, walked out of his fami...</td>\n",
       "      <td>2001-01-20</td>\n",
       "      <td>6.1</td>\n",
       "      <td>31.0</td>\n",
       "    </tr>\n",
       "    <tr>\n",
       "      <th>2794</th>\n",
       "      <td>False</td>\n",
       "      <td>L.I.E. Long Island Expressway</td>\n",
       "      <td>In this biting and disturbing coming-of-age ta...</td>\n",
       "      <td>2001-01-20</td>\n",
       "      <td>6.7</td>\n",
       "      <td>31.0</td>\n",
       "    </tr>\n",
       "  </tbody>\n",
       "</table>\n",
       "</div>"
      ],
      "text/plain": [
       "       adult                 original_title  \\\n",
       "5351   False            Panic in Year Zero!   \n",
       "3173   False           The Care Bears Movie   \n",
       "11382  False                     Sin Filtro   \n",
       "2847   False                       Intimacy   \n",
       "2794   False  L.I.E. Long Island Expressway   \n",
       "\n",
       "                                                overview release_date  \\\n",
       "5351   While on a fishing trip, Harry Baldwin (Ray Mi...   1962-07-05   \n",
       "3173   The Care Bears have their work cut out for the...   1985-03-23   \n",
       "11382  When a woman visits a Chinese doctor, she disc...   2016-01-07   \n",
       "2847   Jay, a failed musician, walked out of his fami...   2001-01-20   \n",
       "2794   In this biting and disturbing coming-of-age ta...   2001-01-20   \n",
       "\n",
       "       vote_average  vote_count  \n",
       "5351            5.8        31.0  \n",
       "3173            5.4        31.0  \n",
       "11382           6.1        31.0  \n",
       "2847            6.1        31.0  \n",
       "2794            6.7        31.0  "
      ]
     },
     "execution_count": 26,
     "metadata": {},
     "output_type": "execute_result"
    }
   ],
   "source": [
    "#Hiển thị dữ liệu sau khi đã tiền xử lý\n",
    "data.head()"
   ]
  },
  {
   "cell_type": "code",
   "execution_count": 27,
   "metadata": {
    "colab": {
     "base_uri": "https://localhost:8080/"
    },
    "id": "5c0jPElEKUKp",
    "outputId": "b1eb362e-82cc-44fd-9958-5e7fc20f73e3"
   },
   "outputs": [
    {
     "name": "stdout",
     "output_type": "stream",
     "text": [
      "6.312776454576387\n"
     ]
    }
   ],
   "source": [
    "# Tính C: Đánh giá trung bình của các bộ film trong tập dữ liệu\n",
    "C = data['vote_average'].mean()\n",
    "print(C)"
   ]
  },
  {
   "cell_type": "code",
   "execution_count": 28,
   "metadata": {
    "colab": {
     "base_uri": "https://localhost:8080/",
     "height": 204
    },
    "id": "rC5Ou7iqQw3t",
    "outputId": "dd147fca-af8e-45c7-ebae-251ea8c3051a"
   },
   "outputs": [
    {
     "data": {
      "text/html": [
       "<div>\n",
       "<style scoped>\n",
       "    .dataframe tbody tr th:only-of-type {\n",
       "        vertical-align: middle;\n",
       "    }\n",
       "\n",
       "    .dataframe tbody tr th {\n",
       "        vertical-align: top;\n",
       "    }\n",
       "\n",
       "    .dataframe thead th {\n",
       "        text-align: right;\n",
       "    }\n",
       "</style>\n",
       "<table border=\"1\" class=\"dataframe\">\n",
       "  <thead>\n",
       "    <tr style=\"text-align: right;\">\n",
       "      <th></th>\n",
       "      <th>adult</th>\n",
       "      <th>original_title</th>\n",
       "      <th>overview</th>\n",
       "      <th>release_date</th>\n",
       "      <th>vote_average</th>\n",
       "      <th>vote_count</th>\n",
       "    </tr>\n",
       "  </thead>\n",
       "  <tbody>\n",
       "    <tr>\n",
       "      <th>5353</th>\n",
       "      <td>False</td>\n",
       "      <td>Final Destination 3</td>\n",
       "      <td>A student's premonition of a deadly rollercoas...</td>\n",
       "      <td>2006-02-10</td>\n",
       "      <td>5.8</td>\n",
       "      <td>1000.0</td>\n",
       "    </tr>\n",
       "    <tr>\n",
       "      <th>1751</th>\n",
       "      <td>False</td>\n",
       "      <td>Goldfinger</td>\n",
       "      <td>Special agent 007 (Sean Connery) comes face to...</td>\n",
       "      <td>1964-09-17</td>\n",
       "      <td>7.2</td>\n",
       "      <td>1005.0</td>\n",
       "    </tr>\n",
       "    <tr>\n",
       "      <th>9815</th>\n",
       "      <td>False</td>\n",
       "      <td>Insidious: Chapter 3</td>\n",
       "      <td>A twisted new tale of terror begins for a teen...</td>\n",
       "      <td>2015-06-04</td>\n",
       "      <td>6.3</td>\n",
       "      <td>1005.0</td>\n",
       "    </tr>\n",
       "    <tr>\n",
       "      <th>6675</th>\n",
       "      <td>False</td>\n",
       "      <td>The Ugly Truth</td>\n",
       "      <td>A romantically challenged morning show produce...</td>\n",
       "      <td>2009-07-24</td>\n",
       "      <td>6.4</td>\n",
       "      <td>1005.0</td>\n",
       "    </tr>\n",
       "    <tr>\n",
       "      <th>9424</th>\n",
       "      <td>False</td>\n",
       "      <td>Ouija</td>\n",
       "      <td>A group of friends must confront their most te...</td>\n",
       "      <td>2014-10-24</td>\n",
       "      <td>4.9</td>\n",
       "      <td>1006.0</td>\n",
       "    </tr>\n",
       "  </tbody>\n",
       "</table>\n",
       "</div>"
      ],
      "text/plain": [
       "      adult        original_title  \\\n",
       "5353  False   Final Destination 3   \n",
       "1751  False            Goldfinger   \n",
       "9815  False  Insidious: Chapter 3   \n",
       "6675  False        The Ugly Truth   \n",
       "9424  False                 Ouija   \n",
       "\n",
       "                                               overview release_date  \\\n",
       "5353  A student's premonition of a deadly rollercoas...   2006-02-10   \n",
       "1751  Special agent 007 (Sean Connery) comes face to...   1964-09-17   \n",
       "9815  A twisted new tale of terror begins for a teen...   2015-06-04   \n",
       "6675  A romantically challenged morning show produce...   2009-07-24   \n",
       "9424  A group of friends must confront their most te...   2014-10-24   \n",
       "\n",
       "      vote_average  vote_count  \n",
       "5353           5.8      1000.0  \n",
       "1751           7.2      1005.0  \n",
       "9815           6.3      1005.0  \n",
       "6675           6.4      1005.0  \n",
       "9424           4.9      1006.0  "
      ]
     },
     "execution_count": 28,
     "metadata": {},
     "output_type": "execute_result"
    }
   ],
   "source": [
    "#Số lượng người vote tối thiểu cho một bộ film phải từ 1000 người trở lên\n",
    "#Lọc các film có vote_count > m thành một DataFrame mới\n",
    "m=1000\n",
    "movies_vote_1000 = data.copy().loc[data['vote_count']>=m]\n",
    "movies_vote_1000.head()"
   ]
  },
  {
   "cell_type": "code",
   "execution_count": 29,
   "metadata": {
    "colab": {
     "base_uri": "https://localhost:8080/"
    },
    "id": "_6KZMZ4FAuTb",
    "outputId": "299a727d-a15b-4907-9cfe-700991335ec8"
   },
   "outputs": [
    {
     "name": "stdout",
     "output_type": "stream",
     "text": [
      "Data ban đầu: (11756, 6)\n",
      "Data film có vote_count>1000: (1109, 6)\n"
     ]
    }
   ],
   "source": [
    "print('Data ban đầu:',data.shape)\n",
    "print('Data film có vote_count>1000:', movies_vote_1000.shape)"
   ]
  },
  {
   "cell_type": "code",
   "execution_count": 30,
   "metadata": {
    "colab": {
     "base_uri": "https://localhost:8080/",
     "height": 297
    },
    "id": "QiDdA7pzA-cd",
    "outputId": "134b03a7-df19-437c-e6be-91280db1fcad"
   },
   "outputs": [
    {
     "data": {
      "text/html": [
       "<div>\n",
       "<style scoped>\n",
       "    .dataframe tbody tr th:only-of-type {\n",
       "        vertical-align: middle;\n",
       "    }\n",
       "\n",
       "    .dataframe tbody tr th {\n",
       "        vertical-align: top;\n",
       "    }\n",
       "\n",
       "    .dataframe thead th {\n",
       "        text-align: right;\n",
       "    }\n",
       "</style>\n",
       "<table border=\"1\" class=\"dataframe\">\n",
       "  <thead>\n",
       "    <tr style=\"text-align: right;\">\n",
       "      <th></th>\n",
       "      <th>vote_average</th>\n",
       "      <th>vote_count</th>\n",
       "    </tr>\n",
       "  </thead>\n",
       "  <tbody>\n",
       "    <tr>\n",
       "      <th>count</th>\n",
       "      <td>1109.000000</td>\n",
       "      <td>1109.000000</td>\n",
       "    </tr>\n",
       "    <tr>\n",
       "      <th>mean</th>\n",
       "      <td>6.774031</td>\n",
       "      <td>2538.054103</td>\n",
       "    </tr>\n",
       "    <tr>\n",
       "      <th>std</th>\n",
       "      <td>0.744869</td>\n",
       "      <td>1797.099646</td>\n",
       "    </tr>\n",
       "    <tr>\n",
       "      <th>min</th>\n",
       "      <td>4.100000</td>\n",
       "      <td>1000.000000</td>\n",
       "    </tr>\n",
       "    <tr>\n",
       "      <th>25%</th>\n",
       "      <td>6.200000</td>\n",
       "      <td>1340.000000</td>\n",
       "    </tr>\n",
       "    <tr>\n",
       "      <th>50%</th>\n",
       "      <td>6.700000</td>\n",
       "      <td>1857.000000</td>\n",
       "    </tr>\n",
       "    <tr>\n",
       "      <th>75%</th>\n",
       "      <td>7.300000</td>\n",
       "      <td>3082.000000</td>\n",
       "    </tr>\n",
       "    <tr>\n",
       "      <th>max</th>\n",
       "      <td>8.500000</td>\n",
       "      <td>14075.000000</td>\n",
       "    </tr>\n",
       "  </tbody>\n",
       "</table>\n",
       "</div>"
      ],
      "text/plain": [
       "       vote_average    vote_count\n",
       "count   1109.000000   1109.000000\n",
       "mean       6.774031   2538.054103\n",
       "std        0.744869   1797.099646\n",
       "min        4.100000   1000.000000\n",
       "25%        6.200000   1340.000000\n",
       "50%        6.700000   1857.000000\n",
       "75%        7.300000   3082.000000\n",
       "max        8.500000  14075.000000"
      ]
     },
     "execution_count": 30,
     "metadata": {},
     "output_type": "execute_result"
    }
   ],
   "source": [
    "#Hiển thị dữ liệu thống kê cho thuộc tính vote_average, vote_count\n",
    "movies_vote_1000.describe()"
   ]
  },
  {
   "cell_type": "markdown",
   "metadata": {
    "id": "AUwMC8O6UMZG"
   },
   "source": [
    "Tập dữ liệu ban đầu có 11 756 bộ film, sau khi lọc chỉ lấy những bộ film có tổng số lượt vote từ 1000 lần trở lên, có tất cả 1109 bộ film thỏa mãn, lưu sang Dataframe mới có tên: movie_vote_1000"
   ]
  },
  {
   "cell_type": "code",
   "execution_count": 31,
   "metadata": {
    "id": "DrClAfYjRtNQ"
   },
   "outputs": [],
   "source": [
    "# Xây dựng hàm tính trọng số đánh giá WR\n",
    "def wr(x,m=m,C=C):\n",
    "    v=x['vote_count']\n",
    "    R=x['vote_average']\n",
    "    return (v/(v+m)*R) + (m/(m+v)*C)"
   ]
  },
  {
   "cell_type": "code",
   "execution_count": 32,
   "metadata": {
    "colab": {
     "base_uri": "https://localhost:8080/",
     "height": 204
    },
    "id": "N7qsL-dPSi2Z",
    "outputId": "487bfa65-f475-4a22-d6fe-1cc913b13b05"
   },
   "outputs": [
    {
     "data": {
      "text/html": [
       "<div>\n",
       "<style scoped>\n",
       "    .dataframe tbody tr th:only-of-type {\n",
       "        vertical-align: middle;\n",
       "    }\n",
       "\n",
       "    .dataframe tbody tr th {\n",
       "        vertical-align: top;\n",
       "    }\n",
       "\n",
       "    .dataframe thead th {\n",
       "        text-align: right;\n",
       "    }\n",
       "</style>\n",
       "<table border=\"1\" class=\"dataframe\">\n",
       "  <thead>\n",
       "    <tr style=\"text-align: right;\">\n",
       "      <th></th>\n",
       "      <th>adult</th>\n",
       "      <th>original_title</th>\n",
       "      <th>overview</th>\n",
       "      <th>release_date</th>\n",
       "      <th>vote_average</th>\n",
       "      <th>vote_count</th>\n",
       "      <th>score</th>\n",
       "    </tr>\n",
       "  </thead>\n",
       "  <tbody>\n",
       "    <tr>\n",
       "      <th>5353</th>\n",
       "      <td>False</td>\n",
       "      <td>Final Destination 3</td>\n",
       "      <td>A student's premonition of a deadly rollercoas...</td>\n",
       "      <td>2006-02-10</td>\n",
       "      <td>5.8</td>\n",
       "      <td>1000.0</td>\n",
       "      <td>6.056388</td>\n",
       "    </tr>\n",
       "    <tr>\n",
       "      <th>1751</th>\n",
       "      <td>False</td>\n",
       "      <td>Goldfinger</td>\n",
       "      <td>Special agent 007 (Sean Connery) comes face to...</td>\n",
       "      <td>1964-09-17</td>\n",
       "      <td>7.2</td>\n",
       "      <td>1005.0</td>\n",
       "      <td>6.757494</td>\n",
       "    </tr>\n",
       "    <tr>\n",
       "      <th>9815</th>\n",
       "      <td>False</td>\n",
       "      <td>Insidious: Chapter 3</td>\n",
       "      <td>A twisted new tale of terror begins for a teen...</td>\n",
       "      <td>2015-06-04</td>\n",
       "      <td>6.3</td>\n",
       "      <td>1005.0</td>\n",
       "      <td>6.306372</td>\n",
       "    </tr>\n",
       "    <tr>\n",
       "      <th>6675</th>\n",
       "      <td>False</td>\n",
       "      <td>The Ugly Truth</td>\n",
       "      <td>A romantically challenged morning show produce...</td>\n",
       "      <td>2009-07-24</td>\n",
       "      <td>6.4</td>\n",
       "      <td>1005.0</td>\n",
       "      <td>6.356497</td>\n",
       "    </tr>\n",
       "    <tr>\n",
       "      <th>9424</th>\n",
       "      <td>False</td>\n",
       "      <td>Ouija</td>\n",
       "      <td>A group of friends must confront their most te...</td>\n",
       "      <td>2014-10-24</td>\n",
       "      <td>4.9</td>\n",
       "      <td>1006.0</td>\n",
       "      <td>5.604275</td>\n",
       "    </tr>\n",
       "    <tr>\n",
       "      <th>...</th>\n",
       "      <td>...</td>\n",
       "      <td>...</td>\n",
       "      <td>...</td>\n",
       "      <td>...</td>\n",
       "      <td>...</td>\n",
       "      <td>...</td>\n",
       "      <td>...</td>\n",
       "    </tr>\n",
       "    <tr>\n",
       "      <th>9824</th>\n",
       "      <td>False</td>\n",
       "      <td>Deadpool</td>\n",
       "      <td>Deadpool tells the origin story of former Spec...</td>\n",
       "      <td>2016-02-09</td>\n",
       "      <td>7.4</td>\n",
       "      <td>11444.0</td>\n",
       "      <td>7.312631</td>\n",
       "    </tr>\n",
       "    <tr>\n",
       "      <th>7639</th>\n",
       "      <td>False</td>\n",
       "      <td>The Avengers</td>\n",
       "      <td>When an unexpected enemy emerges and threatens...</td>\n",
       "      <td>2012-04-25</td>\n",
       "      <td>7.4</td>\n",
       "      <td>12000.0</td>\n",
       "      <td>7.316367</td>\n",
       "    </tr>\n",
       "    <tr>\n",
       "      <th>6869</th>\n",
       "      <td>False</td>\n",
       "      <td>Avatar</td>\n",
       "      <td>In the 22nd century, a paraplegic Marine is di...</td>\n",
       "      <td>2009-12-10</td>\n",
       "      <td>7.2</td>\n",
       "      <td>12114.0</td>\n",
       "      <td>7.132345</td>\n",
       "    </tr>\n",
       "    <tr>\n",
       "      <th>6140</th>\n",
       "      <td>False</td>\n",
       "      <td>The Dark Knight</td>\n",
       "      <td>Batman raises the stakes in his war on crime. ...</td>\n",
       "      <td>2008-07-16</td>\n",
       "      <td>8.3</td>\n",
       "      <td>12269.0</td>\n",
       "      <td>8.150236</td>\n",
       "    </tr>\n",
       "    <tr>\n",
       "      <th>7116</th>\n",
       "      <td>False</td>\n",
       "      <td>Inception</td>\n",
       "      <td>Cobb, a skilled thief who commits corporate es...</td>\n",
       "      <td>2010-07-14</td>\n",
       "      <td>8.1</td>\n",
       "      <td>14075.0</td>\n",
       "      <td>7.981445</td>\n",
       "    </tr>\n",
       "  </tbody>\n",
       "</table>\n",
       "<p>1109 rows × 7 columns</p>\n",
       "</div>"
      ],
      "text/plain": [
       "      adult        original_title  \\\n",
       "5353  False   Final Destination 3   \n",
       "1751  False            Goldfinger   \n",
       "9815  False  Insidious: Chapter 3   \n",
       "6675  False        The Ugly Truth   \n",
       "9424  False                 Ouija   \n",
       "...     ...                   ...   \n",
       "9824  False              Deadpool   \n",
       "7639  False          The Avengers   \n",
       "6869  False                Avatar   \n",
       "6140  False       The Dark Knight   \n",
       "7116  False             Inception   \n",
       "\n",
       "                                               overview release_date  \\\n",
       "5353  A student's premonition of a deadly rollercoas...   2006-02-10   \n",
       "1751  Special agent 007 (Sean Connery) comes face to...   1964-09-17   \n",
       "9815  A twisted new tale of terror begins for a teen...   2015-06-04   \n",
       "6675  A romantically challenged morning show produce...   2009-07-24   \n",
       "9424  A group of friends must confront their most te...   2014-10-24   \n",
       "...                                                 ...          ...   \n",
       "9824  Deadpool tells the origin story of former Spec...   2016-02-09   \n",
       "7639  When an unexpected enemy emerges and threatens...   2012-04-25   \n",
       "6869  In the 22nd century, a paraplegic Marine is di...   2009-12-10   \n",
       "6140  Batman raises the stakes in his war on crime. ...   2008-07-16   \n",
       "7116  Cobb, a skilled thief who commits corporate es...   2010-07-14   \n",
       "\n",
       "      vote_average  vote_count     score  \n",
       "5353           5.8      1000.0  6.056388  \n",
       "1751           7.2      1005.0  6.757494  \n",
       "9815           6.3      1005.0  6.306372  \n",
       "6675           6.4      1005.0  6.356497  \n",
       "9424           4.9      1006.0  5.604275  \n",
       "...            ...         ...       ...  \n",
       "9824           7.4     11444.0  7.312631  \n",
       "7639           7.4     12000.0  7.316367  \n",
       "6869           7.2     12114.0  7.132345  \n",
       "6140           8.3     12269.0  8.150236  \n",
       "7116           8.1     14075.0  7.981445  \n",
       "\n",
       "[1109 rows x 7 columns]"
      ]
     },
     "execution_count": 32,
     "metadata": {},
     "output_type": "execute_result"
    }
   ],
   "source": [
    "#Thêm một thuộc tính mới cho mỗi bộ film  'score', \n",
    "#lưu giá trị Weighted_rating tương ứng\n",
    "movies_vote_1000['score'] =  movies_vote_1000.apply(wr,axis=1)\n",
    "movies_vote_1000"
   ]
  },
  {
   "cell_type": "code",
   "execution_count": 33,
   "metadata": {
    "colab": {
     "base_uri": "https://localhost:8080/",
     "height": 419
    },
    "id": "RODQOXNKB9Ge",
    "outputId": "9f65a5f4-2f43-4989-dfd2-413fee92353c"
   },
   "outputs": [
    {
     "data": {
      "text/html": [
       "<div>\n",
       "<style scoped>\n",
       "    .dataframe tbody tr th:only-of-type {\n",
       "        vertical-align: middle;\n",
       "    }\n",
       "\n",
       "    .dataframe tbody tr th {\n",
       "        vertical-align: top;\n",
       "    }\n",
       "\n",
       "    .dataframe thead th {\n",
       "        text-align: right;\n",
       "    }\n",
       "</style>\n",
       "<table border=\"1\" class=\"dataframe\">\n",
       "  <thead>\n",
       "    <tr style=\"text-align: right;\">\n",
       "      <th></th>\n",
       "      <th>adult</th>\n",
       "      <th>original_title</th>\n",
       "      <th>overview</th>\n",
       "      <th>release_date</th>\n",
       "      <th>vote_average</th>\n",
       "      <th>vote_count</th>\n",
       "      <th>score</th>\n",
       "    </tr>\n",
       "  </thead>\n",
       "  <tbody>\n",
       "    <tr>\n",
       "      <th>200</th>\n",
       "      <td>False</td>\n",
       "      <td>The Shawshank Redemption</td>\n",
       "      <td>Framed in the 1940s for the double murder of h...</td>\n",
       "      <td>1994-09-23</td>\n",
       "      <td>8.5</td>\n",
       "      <td>8358.0</td>\n",
       "      <td>8.266272</td>\n",
       "    </tr>\n",
       "    <tr>\n",
       "      <th>483</th>\n",
       "      <td>False</td>\n",
       "      <td>The Godfather</td>\n",
       "      <td>Spanning the years 1945 to 1955, a chronicle o...</td>\n",
       "      <td>1972-03-14</td>\n",
       "      <td>8.5</td>\n",
       "      <td>6024.0</td>\n",
       "      <td>8.188607</td>\n",
       "    </tr>\n",
       "    <tr>\n",
       "      <th>6140</th>\n",
       "      <td>False</td>\n",
       "      <td>The Dark Knight</td>\n",
       "      <td>Batman raises the stakes in his war on crime. ...</td>\n",
       "      <td>2008-07-16</td>\n",
       "      <td>8.3</td>\n",
       "      <td>12269.0</td>\n",
       "      <td>8.150236</td>\n",
       "    </tr>\n",
       "    <tr>\n",
       "      <th>1759</th>\n",
       "      <td>False</td>\n",
       "      <td>Fight Club</td>\n",
       "      <td>A ticking-time-bomb insomniac and a slippery s...</td>\n",
       "      <td>1999-10-15</td>\n",
       "      <td>8.3</td>\n",
       "      <td>9678.0</td>\n",
       "      <td>8.113896</td>\n",
       "    </tr>\n",
       "    <tr>\n",
       "      <th>187</th>\n",
       "      <td>False</td>\n",
       "      <td>Pulp Fiction</td>\n",
       "      <td>A burger-loving hit man, his philosophical par...</td>\n",
       "      <td>1994-09-10</td>\n",
       "      <td>8.3</td>\n",
       "      <td>8670.0</td>\n",
       "      <td>8.094496</td>\n",
       "    </tr>\n",
       "    <tr>\n",
       "      <th>...</th>\n",
       "      <td>...</td>\n",
       "      <td>...</td>\n",
       "      <td>...</td>\n",
       "      <td>...</td>\n",
       "      <td>...</td>\n",
       "      <td>...</td>\n",
       "      <td>...</td>\n",
       "    </tr>\n",
       "    <tr>\n",
       "      <th>7109</th>\n",
       "      <td>False</td>\n",
       "      <td>The Last Airbender</td>\n",
       "      <td>The story follows the adventures of Aang, a yo...</td>\n",
       "      <td>2010-06-30</td>\n",
       "      <td>4.7</td>\n",
       "      <td>1180.0</td>\n",
       "      <td>5.439806</td>\n",
       "    </tr>\n",
       "    <tr>\n",
       "      <th>8541</th>\n",
       "      <td>False</td>\n",
       "      <td>After Earth</td>\n",
       "      <td>One thousand years after cataclysmic events fo...</td>\n",
       "      <td>2013-05-30</td>\n",
       "      <td>5.0</td>\n",
       "      <td>2579.0</td>\n",
       "      <td>5.366800</td>\n",
       "    </tr>\n",
       "    <tr>\n",
       "      <th>10372</th>\n",
       "      <td>False</td>\n",
       "      <td>Independence Day: Resurgence</td>\n",
       "      <td>We always knew they were coming back. Using re...</td>\n",
       "      <td>2016-06-22</td>\n",
       "      <td>4.9</td>\n",
       "      <td>2550.0</td>\n",
       "      <td>5.297965</td>\n",
       "    </tr>\n",
       "    <tr>\n",
       "      <th>9971</th>\n",
       "      <td>False</td>\n",
       "      <td>The Boy Next Door</td>\n",
       "      <td>A recently cheated on married woman falls for ...</td>\n",
       "      <td>2015-01-23</td>\n",
       "      <td>4.1</td>\n",
       "      <td>1034.0</td>\n",
       "      <td>5.187894</td>\n",
       "    </tr>\n",
       "    <tr>\n",
       "      <th>896</th>\n",
       "      <td>False</td>\n",
       "      <td>Batman &amp; Robin</td>\n",
       "      <td>Along with crime-fighting partner Robin and ne...</td>\n",
       "      <td>1997-06-20</td>\n",
       "      <td>4.2</td>\n",
       "      <td>1447.0</td>\n",
       "      <td>5.063415</td>\n",
       "    </tr>\n",
       "  </tbody>\n",
       "</table>\n",
       "<p>1109 rows × 7 columns</p>\n",
       "</div>"
      ],
      "text/plain": [
       "       adult                original_title  \\\n",
       "200    False      The Shawshank Redemption   \n",
       "483    False                 The Godfather   \n",
       "6140   False               The Dark Knight   \n",
       "1759   False                    Fight Club   \n",
       "187    False                  Pulp Fiction   \n",
       "...      ...                           ...   \n",
       "7109   False            The Last Airbender   \n",
       "8541   False                   After Earth   \n",
       "10372  False  Independence Day: Resurgence   \n",
       "9971   False             The Boy Next Door   \n",
       "896    False                Batman & Robin   \n",
       "\n",
       "                                                overview release_date  \\\n",
       "200    Framed in the 1940s for the double murder of h...   1994-09-23   \n",
       "483    Spanning the years 1945 to 1955, a chronicle o...   1972-03-14   \n",
       "6140   Batman raises the stakes in his war on crime. ...   2008-07-16   \n",
       "1759   A ticking-time-bomb insomniac and a slippery s...   1999-10-15   \n",
       "187    A burger-loving hit man, his philosophical par...   1994-09-10   \n",
       "...                                                  ...          ...   \n",
       "7109   The story follows the adventures of Aang, a yo...   2010-06-30   \n",
       "8541   One thousand years after cataclysmic events fo...   2013-05-30   \n",
       "10372  We always knew they were coming back. Using re...   2016-06-22   \n",
       "9971   A recently cheated on married woman falls for ...   2015-01-23   \n",
       "896    Along with crime-fighting partner Robin and ne...   1997-06-20   \n",
       "\n",
       "       vote_average  vote_count     score  \n",
       "200             8.5      8358.0  8.266272  \n",
       "483             8.5      6024.0  8.188607  \n",
       "6140            8.3     12269.0  8.150236  \n",
       "1759            8.3      9678.0  8.113896  \n",
       "187             8.3      8670.0  8.094496  \n",
       "...             ...         ...       ...  \n",
       "7109            4.7      1180.0  5.439806  \n",
       "8541            5.0      2579.0  5.366800  \n",
       "10372           4.9      2550.0  5.297965  \n",
       "9971            4.1      1034.0  5.187894  \n",
       "896             4.2      1447.0  5.063415  \n",
       "\n",
       "[1109 rows x 7 columns]"
      ]
     },
     "execution_count": 33,
     "metadata": {},
     "output_type": "execute_result"
    }
   ],
   "source": [
    "#Sắp xếp lại dữ liệu theo score giảm dần:\n",
    "movies_vote_1000=movies_vote_1000.sort_values('score',ascending=False)\n",
    "movies_vote_1000"
   ]
  },
  {
   "cell_type": "code",
   "execution_count": 34,
   "metadata": {
    "colab": {
     "base_uri": "https://localhost:8080/",
     "height": 531
    },
    "id": "YdykBH6hDiZH",
    "outputId": "d8ce122a-70f5-487e-cd1c-fd2d6de5295e"
   },
   "outputs": [
    {
     "name": "stdout",
     "output_type": "stream",
     "text": [
      "DANH SÁCH 10 BỘ FILM CÓ ĐIỂM ĐÁNH GIÁ (score) CAO NHẤT\n"
     ]
    },
    {
     "data": {
      "text/html": [
       "<div>\n",
       "<style scoped>\n",
       "    .dataframe tbody tr th:only-of-type {\n",
       "        vertical-align: middle;\n",
       "    }\n",
       "\n",
       "    .dataframe tbody tr th {\n",
       "        vertical-align: top;\n",
       "    }\n",
       "\n",
       "    .dataframe thead th {\n",
       "        text-align: right;\n",
       "    }\n",
       "</style>\n",
       "<table border=\"1\" class=\"dataframe\">\n",
       "  <thead>\n",
       "    <tr style=\"text-align: right;\">\n",
       "      <th></th>\n",
       "      <th>original_title</th>\n",
       "      <th>vote_count</th>\n",
       "      <th>vote_average</th>\n",
       "      <th>score</th>\n",
       "    </tr>\n",
       "  </thead>\n",
       "  <tbody>\n",
       "    <tr>\n",
       "      <th>0</th>\n",
       "      <td>The Shawshank Redemption</td>\n",
       "      <td>8358.0</td>\n",
       "      <td>8.5</td>\n",
       "      <td>8.266272</td>\n",
       "    </tr>\n",
       "    <tr>\n",
       "      <th>1</th>\n",
       "      <td>The Godfather</td>\n",
       "      <td>6024.0</td>\n",
       "      <td>8.5</td>\n",
       "      <td>8.188607</td>\n",
       "    </tr>\n",
       "    <tr>\n",
       "      <th>2</th>\n",
       "      <td>The Dark Knight</td>\n",
       "      <td>12269.0</td>\n",
       "      <td>8.3</td>\n",
       "      <td>8.150236</td>\n",
       "    </tr>\n",
       "    <tr>\n",
       "      <th>3</th>\n",
       "      <td>Fight Club</td>\n",
       "      <td>9678.0</td>\n",
       "      <td>8.3</td>\n",
       "      <td>8.113896</td>\n",
       "    </tr>\n",
       "    <tr>\n",
       "      <th>4</th>\n",
       "      <td>Pulp Fiction</td>\n",
       "      <td>8670.0</td>\n",
       "      <td>8.3</td>\n",
       "      <td>8.094496</td>\n",
       "    </tr>\n",
       "    <tr>\n",
       "      <th>5</th>\n",
       "      <td>Forrest Gump</td>\n",
       "      <td>8147.0</td>\n",
       "      <td>8.2</td>\n",
       "      <td>7.993678</td>\n",
       "    </tr>\n",
       "    <tr>\n",
       "      <th>6</th>\n",
       "      <td>Inception</td>\n",
       "      <td>14075.0</td>\n",
       "      <td>8.1</td>\n",
       "      <td>7.981445</td>\n",
       "    </tr>\n",
       "    <tr>\n",
       "      <th>7</th>\n",
       "      <td>Interstellar</td>\n",
       "      <td>11187.0</td>\n",
       "      <td>8.1</td>\n",
       "      <td>7.953350</td>\n",
       "    </tr>\n",
       "    <tr>\n",
       "      <th>8</th>\n",
       "      <td>Schindler's List</td>\n",
       "      <td>4436.0</td>\n",
       "      <td>8.3</td>\n",
       "      <td>7.934433</td>\n",
       "    </tr>\n",
       "    <tr>\n",
       "      <th>9</th>\n",
       "      <td>Whiplash</td>\n",
       "      <td>4376.0</td>\n",
       "      <td>8.3</td>\n",
       "      <td>7.930353</td>\n",
       "    </tr>\n",
       "  </tbody>\n",
       "</table>\n",
       "</div>"
      ],
      "text/plain": [
       "             original_title  vote_count  vote_average     score\n",
       "0  The Shawshank Redemption      8358.0           8.5  8.266272\n",
       "1             The Godfather      6024.0           8.5  8.188607\n",
       "2           The Dark Knight     12269.0           8.3  8.150236\n",
       "3                Fight Club      9678.0           8.3  8.113896\n",
       "4              Pulp Fiction      8670.0           8.3  8.094496\n",
       "5              Forrest Gump      8147.0           8.2  7.993678\n",
       "6                 Inception     14075.0           8.1  7.981445\n",
       "7              Interstellar     11187.0           8.1  7.953350\n",
       "8          Schindler's List      4436.0           8.3  7.934433\n",
       "9                  Whiplash      4376.0           8.3  7.930353"
      ]
     },
     "execution_count": 34,
     "metadata": {},
     "output_type": "execute_result"
    }
   ],
   "source": [
    "#Lấy 10 film có điểm trọng số đánh giá cao nhất:\n",
    "list10 = movies_vote_1000[['original_title','vote_count','vote_average','score']].head(10).copy()\n",
    "list10.reset_index(drop = True, inplace=True)\n",
    "print('DANH SÁCH 10 BỘ FILM CÓ ĐIỂM ĐÁNH GIÁ (score) CAO NHẤT')\n",
    "list10"
   ]
  },
  {
   "cell_type": "markdown",
   "metadata": {
    "id": "YMUAsplpbwCu"
   },
   "source": [
    "Sau khi tính toán trọng số đánh giá (WR), dựa vào thông số này để đưa ra danh sách các film (có trọng số đánh giá cao) gợi ý cho người xem. Ví dụ trong trường hợp ở trên chúng ta đưa ra 10 bộ phim có trọng số đánh giá cao nhất.\n",
    "\n",
    "WR phụ thuộc vào điểm đánh giá trung bình với số lượng người đánh giá cho bộ film. Có những bộ film có điểm trung bình cao nhưng lượng người đánh giá lại ít nên WR thấp.\n",
    "\n",
    "Một số bộ film có điểm vote trung bình cao > 8.5, nhưng số lượt vote lại rất thấp nên ko được đưa vào danh sách tính WR (<1000 lượt vote)"
   ]
  },
  {
   "cell_type": "code",
   "execution_count": 35,
   "metadata": {
    "colab": {
     "base_uri": "https://localhost:8080/"
    },
    "id": "cgK3YS2ZS_dn",
    "outputId": "5655ec8e-6f77-471f-c0fd-2ec2c9d40c14"
   },
   "outputs": [
    {
     "data": {
      "text/plain": [
       "adult             9\n",
       "original_title    9\n",
       "overview          9\n",
       "release_date      9\n",
       "vote_average      9\n",
       "vote_count        9\n",
       "dtype: int64"
      ]
     },
     "execution_count": 35,
     "metadata": {},
     "output_type": "execute_result"
    }
   ],
   "source": [
    "#Số lượng các film có vote trung bình > 8.5\n",
    "data[data['vote_average']>8.5].count()"
   ]
  },
  {
   "cell_type": "code",
   "execution_count": 36,
   "metadata": {
    "colab": {
     "base_uri": "https://localhost:8080/",
     "height": 419
    },
    "id": "NflFaSIMWnRY",
    "outputId": "1b39a2c0-647d-41b0-cb2e-3fa711b346d4"
   },
   "outputs": [
    {
     "data": {
      "text/html": [
       "<div>\n",
       "<style scoped>\n",
       "    .dataframe tbody tr th:only-of-type {\n",
       "        vertical-align: middle;\n",
       "    }\n",
       "\n",
       "    .dataframe tbody tr th {\n",
       "        vertical-align: top;\n",
       "    }\n",
       "\n",
       "    .dataframe thead th {\n",
       "        text-align: right;\n",
       "    }\n",
       "</style>\n",
       "<table border=\"1\" class=\"dataframe\">\n",
       "  <thead>\n",
       "    <tr style=\"text-align: right;\">\n",
       "      <th></th>\n",
       "      <th>original_title</th>\n",
       "      <th>vote_average</th>\n",
       "      <th>vote_count</th>\n",
       "    </tr>\n",
       "  </thead>\n",
       "  <tbody>\n",
       "    <tr>\n",
       "      <th>3763</th>\n",
       "      <td>Shoah</td>\n",
       "      <td>8.7</td>\n",
       "      <td>36.0</td>\n",
       "    </tr>\n",
       "    <tr>\n",
       "      <th>11874</th>\n",
       "      <td>Lemonade</td>\n",
       "      <td>8.8</td>\n",
       "      <td>45.0</td>\n",
       "    </tr>\n",
       "    <tr>\n",
       "      <th>1692</th>\n",
       "      <td>Stop Making Sense</td>\n",
       "      <td>8.7</td>\n",
       "      <td>47.0</td>\n",
       "    </tr>\n",
       "    <tr>\n",
       "      <th>11991</th>\n",
       "      <td>Planet Earth II</td>\n",
       "      <td>9.5</td>\n",
       "      <td>50.0</td>\n",
       "    </tr>\n",
       "    <tr>\n",
       "      <th>4212</th>\n",
       "      <td>山椒大夫</td>\n",
       "      <td>8.7</td>\n",
       "      <td>68.0</td>\n",
       "    </tr>\n",
       "    <tr>\n",
       "      <th>10136</th>\n",
       "      <td>The Jinx: The Life and Deaths of Robert Durst</td>\n",
       "      <td>8.6</td>\n",
       "      <td>85.0</td>\n",
       "    </tr>\n",
       "    <tr>\n",
       "      <th>10836</th>\n",
       "      <td>Human</td>\n",
       "      <td>8.6</td>\n",
       "      <td>98.0</td>\n",
       "    </tr>\n",
       "    <tr>\n",
       "      <th>11386</th>\n",
       "      <td>Planet Earth</td>\n",
       "      <td>8.8</td>\n",
       "      <td>176.0</td>\n",
       "    </tr>\n",
       "    <tr>\n",
       "      <th>5160</th>\n",
       "      <td>Dilwale Dulhania Le Jayenge</td>\n",
       "      <td>9.1</td>\n",
       "      <td>661.0</td>\n",
       "    </tr>\n",
       "  </tbody>\n",
       "</table>\n",
       "</div>"
      ],
      "text/plain": [
       "                                      original_title  vote_average  vote_count\n",
       "3763                                           Shoah           8.7        36.0\n",
       "11874                                       Lemonade           8.8        45.0\n",
       "1692                               Stop Making Sense           8.7        47.0\n",
       "11991                                Planet Earth II           9.5        50.0\n",
       "4212                                            山椒大夫           8.7        68.0\n",
       "10136  The Jinx: The Life and Deaths of Robert Durst           8.6        85.0\n",
       "10836                                          Human           8.6        98.0\n",
       "11386                                   Planet Earth           8.8       176.0\n",
       "5160                     Dilwale Dulhania Le Jayenge           9.1       661.0"
      ]
     },
     "execution_count": 36,
     "metadata": {},
     "output_type": "execute_result"
    }
   ],
   "source": [
    "#Danh sách các film có vote trung bình >8.5\n",
    "data[data['vote_average']>8.5].loc[:,['original_title','vote_average','vote_count']]"
   ]
  },
  {
   "cell_type": "markdown",
   "metadata": {
    "id": "OA7ibhaWcPE1"
   },
   "source": [
    "## **3.2) Content-Based Recommender:**\n",
    "---\n",
    "Với hệ thống đề xuất dựa trên nội dung, nhiệm vụ của chúng ta là phải tìm được một bộ film có nội dung tương đồng cao nhất với một bộ film xác định. \n",
    "\n",
    "Chúng ta sẽ phải tính toán số điểm tương đồng theo từng cặp cho tất cả các bộ film và đưa ra bộ film đề xuất có điểm tương đồng cao nhất.\n",
    "\n",
    "<img src='pic/pic2.png' width='200px'>\n"
   ]
  },
  {
   "cell_type": "markdown",
   "metadata": {
    "id": "VWDwQowCl7AE"
   },
   "source": [
    "### A) Dựa vào tóm tắt film (Overview)\n",
    "---\n",
    "Dữ liệu film có thuộc tính \"overview\" đây là thuộc tính tóm tắt nội dung của bộ film. Chúng ta sẽ dựa vào thông tin tóm tắt film để tìm bộ film có nội dung tương tự với bộ film đưa vào.\n"
   ]
  },
  {
   "cell_type": "code",
   "execution_count": null,
   "metadata": {
    "colab": {
     "base_uri": "https://localhost:8080/"
    },
    "id": "xUqXMlDjTmCh",
    "outputId": "80a7149c-8e50-4839-c2c7-e3ccaa04e4cd"
   },
   "outputs": [],
   "source": [
    "#Dữ liệu các bộ film ban đầu\n",
    "data.info()"
   ]
  },
  {
   "cell_type": "code",
   "execution_count": null,
   "metadata": {},
   "outputs": [],
   "source": [
    "data.head()"
   ]
  },
  {
   "cell_type": "markdown",
   "metadata": {
    "id": "szA66RumrqW1"
   },
   "source": [
    "### 1. Chuyển đổi dữ liệu\n",
    "---\n",
    "Thuộc tính tóm tắt phim 'overview' có kiểu dữ liệu dạng chuỗi, cần phải biến đổi về dữ liệu dạng số.\n",
    "\n",
    "**Phương pháp 1: Túi đựng từ (Bag of Word):**\n",
    "\n",
    "Bag of Words (BOW) là một phương pháp để trích xuất các đặc điểm từ các dữ liệu văn bản. Tạo ra một tập hợp bao gồm các cặp giá trị key và value, giá trị key là từ duy nhất có trong tập dữ liệu, giá trị value là số lần xuất hiện của từ đó trong câu, và BOW hầu như không quan tâm đến thứ tự xuất hiện của các từ đó.\n",
    "\n",
    "**Phương pháp 2 TF-IDF:**\n",
    "\n",
    "TF-IDF xác định trọng số của một từ trong văn bản thu được qua thống kê thể hiện mức độ quan trọng của từ này trong một văn bản, mà bản thân văn bản đang xét nằm trong một tập hợp các văn bản. Giá trị TF-IDF cao thể hiện độ quan trọng cao và nó phụ thuộc vào số lần từ xuất hiện trong văn bản nhưng bù lại bởi tần suất của từ đó trong tập dữ liệu.\n",
    "\n"
   ]
  },
  {
   "cell_type": "code",
   "execution_count": 37,
   "metadata": {},
   "outputs": [
    {
     "name": "stdout",
     "output_type": "stream",
     "text": [
      "Danh sách toàn bộ các từ: ['cha' 'cô' 'công' 'mẹ' 'nghĩa' 'thầy' 'ơn']\n",
      "[[1 0 1 1 0 0 0]\n",
      " [1 0 0 1 1 0 0]\n",
      " [0 1 0 0 0 1 2]\n",
      " [1 1 0 1 0 1 0]]\n"
     ]
    }
   ],
   "source": [
    "import numpy as np\n",
    "#Dữ liệu Text ban đầu:\n",
    "st = ['công cha mẹ',\n",
    "      'nghĩa mẹ cha',\n",
    "      'ơn thầy ơn cô',\n",
    "      'cha mẹ thầy cô']\n",
    "\n",
    "#Phương pháp 1:  Túi đựng từ (Bag of Word):\n",
    "from sklearn.feature_extraction.text import CountVectorizer\n",
    "#Định nghĩa phương thức\n",
    "bow = CountVectorizer()\n",
    "bow_st = bow.fit_transform(st)\n",
    "print('Danh sách toàn bộ các từ:',bow.get_feature_names_out())\n",
    "print(bow_st.toarray())\n"
   ]
  },
  {
   "cell_type": "code",
   "execution_count": 38,
   "metadata": {},
   "outputs": [
    {
     "name": "stdout",
     "output_type": "stream",
     "text": [
      "Danh sách toàn bộ các từ: ['cha' 'cô' 'công' 'mẹ' 'nghĩa' 'thầy' 'ơn']\n",
      "[[0.474 0.    0.742 0.474 0.    0.    0.   ]\n",
      " [0.474 0.    0.    0.474 0.742 0.    0.   ]\n",
      " [0.    0.344 0.    0.    0.    0.344 0.873]\n",
      " [0.445 0.55  0.    0.445 0.    0.55  0.   ]]\n"
     ]
    }
   ],
   "source": [
    "#Phương pháp 2: TF-IDF:\n",
    "from sklearn.feature_extraction.text import TfidfVectorizer\n",
    "#Định nghĩa một vector TF-IDF:\n",
    "tfidf = TfidfVectorizer()\n",
    "#Tính toán cho danh sách st:\n",
    "tfidf_st = tfidf.fit_transform(st)\n",
    "print('Danh sách toàn bộ các từ:',tfidf.get_feature_names_out())\n",
    "print(np.round(tfidf_st.toarray(),3))"
   ]
  },
  {
   "cell_type": "code",
   "execution_count": null,
   "metadata": {},
   "outputs": [],
   "source": []
  },
  {
   "cell_type": "code",
   "execution_count": null,
   "metadata": {},
   "outputs": [],
   "source": []
  },
  {
   "cell_type": "code",
   "execution_count": 39,
   "metadata": {
    "colab": {
     "base_uri": "https://localhost:8080/"
    },
    "id": "Sxw9Bd8Xt39_",
    "outputId": "e85ecf63-82f4-487d-b6e3-973b7cac43e0"
   },
   "outputs": [
    {
     "data": {
      "text/plain": [
       "(11756, 34131)"
      ]
     },
     "execution_count": 39,
     "metadata": {},
     "output_type": "execute_result"
    }
   ],
   "source": [
    "#Sử dụng phương pháp TF-IDF cho bài toán\n",
    "#Xây dựng ma trận TF-IDF cho thuộc tính tóm tắt phim (Overview)\n",
    "tfidf_matrix = tfidf.fit_transform(data['overview'])\n",
    "\n",
    "# ma trận corpus của TFIDF\n",
    "tfidf_matrix.shape"
   ]
  },
  {
   "cell_type": "code",
   "execution_count": 40,
   "metadata": {},
   "outputs": [
    {
     "name": "stdout",
     "output_type": "stream",
     "text": [
      "1. Tóm tắt phim của bộ phim có chỉ số 2503:\n",
      "Josie, Melody and Val are three small-town girl musicians determined to take their rock band out of their garage and straight to the top, while remaining true to their look, style and sound. They get a record deal which brings fame and fortune but soon realize they are pawns of two people who want to control the youth of America. They must clear their names, even if it means losing fame and fortune.\n",
      "2. Dữ liệu sau khi đã chuyển đổi thành dạng số:\n"
     ]
    },
    {
     "data": {
      "text/plain": [
       "array([[0., 0., 0., ..., 0., 0., 0.]])"
      ]
     },
     "execution_count": 40,
     "metadata": {},
     "output_type": "execute_result"
    }
   ],
   "source": [
    "#So sánh kết quả chuyển đổi từ Chuỗi --> Số:\n",
    "\n",
    "print('1. Tóm tắt phim của bộ phim có chỉ số 2503:')\n",
    "print(data.loc[2503,'overview'])\n",
    "\n",
    "print('2. Dữ liệu sau khi đã chuyển đổi thành dạng số:')\n",
    "tfidf_matrix[2503,:].toarray()"
   ]
  },
  {
   "cell_type": "code",
   "execution_count": 41,
   "metadata": {},
   "outputs": [
    {
     "name": "stdout",
     "output_type": "stream",
     "text": [
      "  (0, 26723)\t0.4948887849677899\n",
      "  (0, 24624)\t0.44803897187505676\n",
      "  (0, 10199)\t0.2904613591907032\n",
      "  (0, 27007)\t0.37001193296624296\n",
      "  (0, 13666)\t0.2938551069018955\n",
      "  (0, 10110)\t0.3443400442261326\n",
      "  (0, 18259)\t0.17917075850773906\n",
      "  (0, 15906)\t0.0907224128372869\n",
      "  (0, 30523)\t0.25504070647914234\n",
      "  (0, 30510)\t0.11809852440932568\n",
      "  (0, 30830)\t0.06578539067190355\n",
      "  (0, 1538)\t0.0670461826936358\n"
     ]
    }
   ],
   "source": [
    "print(tfidf_matrix[2503,:])"
   ]
  },
  {
   "cell_type": "code",
   "execution_count": 42,
   "metadata": {},
   "outputs": [
    {
     "data": {
      "text/plain": [
       "array([[0., 0., 0., 0., 0., 0., 0., 0., 0., 0.],\n",
       "       [0., 0., 0., 0., 0., 0., 0., 0., 0., 0.],\n",
       "       [0., 0., 0., 0., 0., 0., 0., 0., 0., 0.],\n",
       "       [0., 0., 0., 0., 0., 0., 0., 0., 0., 0.],\n",
       "       [0., 0., 0., 0., 0., 0., 0., 0., 0., 0.],\n",
       "       [0., 0., 0., 0., 0., 0., 0., 0., 0., 0.],\n",
       "       [0., 0., 0., 0., 0., 0., 0., 0., 0., 0.],\n",
       "       [0., 0., 0., 0., 0., 0., 0., 0., 0., 0.],\n",
       "       [0., 0., 0., 0., 0., 0., 0., 0., 0., 0.],\n",
       "       [0., 0., 0., 0., 0., 0., 0., 0., 0., 0.]])"
      ]
     },
     "execution_count": 42,
     "metadata": {},
     "output_type": "execute_result"
    }
   ],
   "source": [
    "#Hiển thị dữ liệu ma trân thưa\n",
    "tfidf_matrix[0:10,130:140].toarray()"
   ]
  },
  {
   "cell_type": "markdown",
   "metadata": {
    "id": "HFZN7K8RudGM"
   },
   "source": [
    "### 2. Tính toán độ tương đồng của các bộ phim\n",
    "---\n",
    "Có tất cả 34 131 từ khác nhau được sử dụng để tóm tắt nội dung của 11 756 bộ film --> tạo ra một ma trận 11 756 hàng (mỗi hàng tương ứng với một bộ phim) và 34 131 cột (mỗi cột tương ứng với 1 từ trong toàn bộ các từ có trong tóm tắt phim)\n",
    "\n",
    "Dựa vào dữ liệu số hóa của các tóm tắt phim, chúng ta sẽ thực hiện việc tính toán độ tương đồng giữa các bộ phim với nhau. Có thể sử dụng các độ đo như:\n",
    "* Euclidean distance. \n",
    "* Cosine distance.\n",
    "\n",
    "Câu hỏi đặt ra là độ đo tương đồng nào là tốt nhất? ko có độ đo nào là tốt nhất nó phụ thuộc vào từng loại dữ liệu và bài toán cụ thể. \n",
    "\n",
    "Chúng ta sẽ sử dụng độ đo Cosine để tính độ tương đồng:\n",
    "<img src='pic/pic_cosine.png' width=300px>"
   ]
  },
  {
   "cell_type": "code",
   "execution_count": 43,
   "metadata": {
    "colab": {
     "base_uri": "https://localhost:8080/"
    },
    "id": "eBuu3Be-uXpP",
    "outputId": "f3cb9886-7c6e-4a67-816c-0f5bf7ffd77f"
   },
   "outputs": [
    {
     "name": "stdout",
     "output_type": "stream",
     "text": [
      "Kích thước ma trận tương đồng: (11756, 11756)\n",
      "[[1.         0.04770975 0.01214698 ... 0.02495657 0.06484616 0.04001616]\n",
      " [0.04770975 1.         0.01475988 ... 0.01876803 0.03006983 0.01945007]\n",
      " [0.01214698 0.01475988 1.         ... 0.01950027 0.02043767 0.01527967]\n",
      " ...\n",
      " [0.02495657 0.01876803 0.01950027 ... 1.         0.03279629 0.01113675]\n",
      " [0.06484616 0.03006983 0.02043767 ... 0.03279629 1.         0.04045642]\n",
      " [0.04001616 0.01945007 0.01527967 ... 0.01113675 0.04045642 1.        ]]\n"
     ]
    }
   ],
   "source": [
    "from sklearn.metrics.pairwise import linear_kernel\n",
    "\n",
    "#Tính độ tương tự cosine giữa các bộ film với nhau dựa vào \n",
    "#tóm tắt film ở dạng số\n",
    "cosine_sim = linear_kernel(tfidf_matrix,tfidf_matrix)\n",
    "print('Kích thước ma trận tương đồng:', cosine_sim.shape)\n",
    "print(cosine_sim)"
   ]
  },
  {
   "cell_type": "code",
   "execution_count": 44,
   "metadata": {},
   "outputs": [
    {
     "data": {
      "text/plain": [
       "0.0"
      ]
     },
     "execution_count": 44,
     "metadata": {},
     "output_type": "execute_result"
    }
   ],
   "source": [
    "#Giá trị nhỏ nhất:\n",
    "cosine_sim.min()"
   ]
  },
  {
   "cell_type": "code",
   "execution_count": 45,
   "metadata": {},
   "outputs": [
    {
     "data": {
      "text/plain": [
       "1.0"
      ]
     },
     "execution_count": 45,
     "metadata": {},
     "output_type": "execute_result"
    }
   ],
   "source": [
    "#Giá trị nhỏ nhất:\n",
    "round(cosine_sim.max(),2)"
   ]
  },
  {
   "cell_type": "markdown",
   "metadata": {},
   "source": [
    "**GHI CHÚ:**\n",
    "\n",
    "Có 11 756 bộ phim sẽ tính tương đồng giữa chúng với nhau theo độ đo cosine; Độ tương đồng theo cosine có giá trị từ [0-1] thể hiện mức tương đồng từ thấp đến cao.\n",
    "\n",
    "<img src='pic/cosine_sim.png' width='400px'>\n",
    "\n",
    "Giá trị càng gần 1 độ tương đồng càng cao (nghĩa là tóm tắt phim --> nội dung phim càng giống nhau), trường hợp bằng 1 có nghĩa là 2 bộ phim có tóm tắt phim giống hệt nhau."
   ]
  },
  {
   "cell_type": "code",
   "execution_count": 46,
   "metadata": {
    "colab": {
     "base_uri": "https://localhost:8080/",
     "height": 504
    },
    "id": "IZfFoAc6y9Od",
    "outputId": "d5f97c34-0343-484c-c061-9b159c6a967e"
   },
   "outputs": [
    {
     "data": {
      "image/png": "[encoded data removed]",
      "text/plain": [
       "<Figure size 1170x827 with 2 Axes>"
      ]
     },
     "metadata": {},
     "output_type": "display_data"
    }
   ],
   "source": [
    "#Trực quan hóa độ tương đồng của 100 bộ phim đầu tiên với nhau:\n",
    "import matplotlib.pyplot as plt\n",
    "import numpy as np\n",
    "import seaborn as sns\n",
    "sns.set(rc={'figure.figsize':(11.7,8.27)})\n",
    "\n",
    "ax = sns.heatmap(cosine_sim[0:100,0:100],\n",
    "                 cmap='bwr' )\n",
    "plt.show()"
   ]
  },
  {
   "cell_type": "markdown",
   "metadata": {},
   "source": [
    "### 3.Tích hợp hệ thống đề xuất\n",
    "---"
   ]
  },
  {
   "cell_type": "code",
   "execution_count": 47,
   "metadata": {
    "colab": {
     "base_uri": "https://localhost:8080/"
    },
    "id": "7j5m4H4rYBwQ",
    "outputId": "177ab8da-5049-4279-d9eb-4210614596c9"
   },
   "outputs": [
    {
     "data": {
      "text/plain": [
       "original_title\n",
       "Panic in Year Zero!               5351\n",
       "The Care Bears Movie              3173\n",
       "Sin Filtro                       11382\n",
       "Intimacy                          2847\n",
       "L.I.E. Long Island Expressway     2794\n",
       "                                 ...  \n",
       "Deadpool                          9824\n",
       "The Avengers                      7639\n",
       "Avatar                            6869\n",
       "The Dark Knight                   6140\n",
       "Inception                         7116\n",
       "Length: 11756, dtype: int64"
      ]
     },
     "execution_count": 47,
     "metadata": {},
     "output_type": "execute_result"
    }
   ],
   "source": [
    "#Tạo một biến Series Lấy danh sách tên các bộ film \n",
    "#và index tương ứng\n",
    "indices = pd.Series(data.index,index=data['original_title'])\n",
    "indices"
   ]
  },
  {
   "cell_type": "markdown",
   "metadata": {
    "id": "4O1XlvUqa54b"
   },
   "source": [
    "**Xây dựng hàm: get_recommend_movies**\n",
    "\n",
    "đầu vào là tên của một bộ film sau đó dựa vào ma trận cosine_sim để xác định 8 bộ film có độ tương đồng cao theo thứ tự giảm dần.\n",
    "\n",
    "* input: title, cosine_sim\n",
    "* output: list 8 film similarity\n"
   ]
  },
  {
   "cell_type": "code",
   "execution_count": 48,
   "metadata": {
    "id": "fBWQxp0oaa1J"
   },
   "outputs": [],
   "source": [
    "def get_recommend_movies(title,cosine_sim=cosine_sim):\n",
    "    #Lấy index của bộ film theo tiêu đề đưa vào\n",
    "    idx=indices[title]\n",
    "    \n",
    "    #Lấy điểm tương đồng theo cặp của tất cả các movies theo tiêu đề bộ film đưa vào\n",
    "    sim_scores = list(enumerate(cosine_sim[idx]))\n",
    "    \n",
    "    #Sắp xếp các bộ film dựa theo điểm tương đồng giảm dần\n",
    "    sim_scores = sorted(sim_scores, key=lambda x: x[1], reverse=True)\n",
    "    \n",
    "    #Lấy điểm của 8 bộ film có độ tương đồng cao nhất\n",
    "    #Và bao gồm cả bộ phim đưa vào \n",
    "    sim_scores_8 = sim_scores[0:9]\n",
    "    \n",
    "    #Lấy index tương ứng với bộ film này:\n",
    "    movies_index = [i[0] for i in sim_scores_8]\n",
    "    \n",
    "    #Xóa index của bộ phim đầu vào khỏi danh sách kết quả:\n",
    "    movies_index.remove(idx)\n",
    "    \n",
    "    #trả ra tiêu đề và tóm tắt của 8 bộ film ứng với index\n",
    "    return data[['original_title','overview','release_date']].iloc[movies_index]"
   ]
  },
  {
   "cell_type": "markdown",
   "metadata": {},
   "source": [
    "### 4. Sử dụng hệ thống gợi ý:\n",
    "---\n",
    "Khi người dùng xem một bộ phim bất kỳ hệ thống sẽ dựa vào tóm tắt của bộ phim người dùng xem để tìm trong CSDL những bộ phim có tóm tắt phim tương tự (nội dung phim giống nhau) nhất để đưa ra gợi ý cho người xem"
   ]
  },
  {
   "cell_type": "code",
   "execution_count": 49,
   "metadata": {},
   "outputs": [
    {
     "data": {
      "text/html": [
       "<div>\n",
       "<style scoped>\n",
       "    .dataframe tbody tr th:only-of-type {\n",
       "        vertical-align: middle;\n",
       "    }\n",
       "\n",
       "    .dataframe tbody tr th {\n",
       "        vertical-align: top;\n",
       "    }\n",
       "\n",
       "    .dataframe thead th {\n",
       "        text-align: right;\n",
       "    }\n",
       "</style>\n",
       "<table border=\"1\" class=\"dataframe\">\n",
       "  <thead>\n",
       "    <tr style=\"text-align: right;\">\n",
       "      <th></th>\n",
       "      <th>adult</th>\n",
       "      <th>original_title</th>\n",
       "      <th>overview</th>\n",
       "      <th>release_date</th>\n",
       "      <th>vote_average</th>\n",
       "      <th>vote_count</th>\n",
       "    </tr>\n",
       "  </thead>\n",
       "  <tbody>\n",
       "    <tr>\n",
       "      <th>10298</th>\n",
       "      <td>False</td>\n",
       "      <td>Le nuove comiche</td>\n",
       "      <td>A few funny little novels about different aspe...</td>\n",
       "      <td>1994-01-01</td>\n",
       "      <td>5.0</td>\n",
       "      <td>32.0</td>\n",
       "    </tr>\n",
       "    <tr>\n",
       "      <th>10297</th>\n",
       "      <td>False</td>\n",
       "      <td>Le comiche 2</td>\n",
       "      <td>A few funny little novels about different aspe...</td>\n",
       "      <td>1991-10-19</td>\n",
       "      <td>5.5</td>\n",
       "      <td>47.0</td>\n",
       "    </tr>\n",
       "    <tr>\n",
       "      <th>10296</th>\n",
       "      <td>False</td>\n",
       "      <td>Le comiche</td>\n",
       "      <td>A few funny little novels about different aspe...</td>\n",
       "      <td>1990-01-01</td>\n",
       "      <td>5.7</td>\n",
       "      <td>59.0</td>\n",
       "    </tr>\n",
       "  </tbody>\n",
       "</table>\n",
       "</div>"
      ],
      "text/plain": [
       "       adult    original_title  \\\n",
       "10298  False  Le nuove comiche   \n",
       "10297  False      Le comiche 2   \n",
       "10296  False        Le comiche   \n",
       "\n",
       "                                                overview release_date  \\\n",
       "10298  A few funny little novels about different aspe...   1994-01-01   \n",
       "10297  A few funny little novels about different aspe...   1991-10-19   \n",
       "10296  A few funny little novels about different aspe...   1990-01-01   \n",
       "\n",
       "       vote_average  vote_count  \n",
       "10298           5.0        32.0  \n",
       "10297           5.5        47.0  \n",
       "10296           5.7        59.0  "
      ]
     },
     "execution_count": 49,
     "metadata": {},
     "output_type": "execute_result"
    }
   ],
   "source": [
    "#Thử với bộ phim có Tóm tắt phim giống nhau:\n",
    "#Có 3 bộ phim tên khác nhau nhưng có cùng tóm tắt phim:\n",
    "data.loc[(data['overview']=='A few funny little novels about different aspects of life.')]"
   ]
  },
  {
   "cell_type": "code",
   "execution_count": 50,
   "metadata": {},
   "outputs": [
    {
     "data": {
      "text/html": [
       "<div>\n",
       "<style scoped>\n",
       "    .dataframe tbody tr th:only-of-type {\n",
       "        vertical-align: middle;\n",
       "    }\n",
       "\n",
       "    .dataframe tbody tr th {\n",
       "        vertical-align: top;\n",
       "    }\n",
       "\n",
       "    .dataframe thead th {\n",
       "        text-align: right;\n",
       "    }\n",
       "</style>\n",
       "<table border=\"1\" class=\"dataframe\">\n",
       "  <thead>\n",
       "    <tr style=\"text-align: right;\">\n",
       "      <th></th>\n",
       "      <th>original_title</th>\n",
       "      <th>overview</th>\n",
       "      <th>release_date</th>\n",
       "    </tr>\n",
       "  </thead>\n",
       "  <tbody>\n",
       "    <tr>\n",
       "      <th>8094</th>\n",
       "      <td>Broken</td>\n",
       "      <td>Three suburban English families' lives intertw...</td>\n",
       "      <td>2012-08-22</td>\n",
       "    </tr>\n",
       "    <tr>\n",
       "      <th>11770</th>\n",
       "      <td>A Dog's Purpose</td>\n",
       "      <td>A dog goes on quest to discover his purpose in...</td>\n",
       "      <td>2017-01-19</td>\n",
       "    </tr>\n",
       "    <tr>\n",
       "      <th>10169</th>\n",
       "      <td>The Longest Ride</td>\n",
       "      <td>The lives of a young couple intertwine with a ...</td>\n",
       "      <td>2015-04-09</td>\n",
       "    </tr>\n",
       "    <tr>\n",
       "      <th>11553</th>\n",
       "      <td>The Intervention</td>\n",
       "      <td>A weekend getaway for four couples takes a sha...</td>\n",
       "      <td>2016-08-26</td>\n",
       "    </tr>\n",
       "    <tr>\n",
       "      <th>8903</th>\n",
       "      <td>Only Lovers Left Alive</td>\n",
       "      <td>After being around for centuries and now livin...</td>\n",
       "      <td>2013-12-12</td>\n",
       "    </tr>\n",
       "    <tr>\n",
       "      <th>7261</th>\n",
       "      <td>Jack Goes Boating</td>\n",
       "      <td>A limo driver's blind date sparks a tale of lo...</td>\n",
       "      <td>2010-09-23</td>\n",
       "    </tr>\n",
       "    <tr>\n",
       "      <th>11328</th>\n",
       "      <td>Mi gran noche</td>\n",
       "      <td>During the never-ending TV taping for a New Ye...</td>\n",
       "      <td>2015-10-23</td>\n",
       "    </tr>\n",
       "    <tr>\n",
       "      <th>1632</th>\n",
       "      <td>Radio Days</td>\n",
       "      <td>The Narrator (Woody Allen) tells us how the ra...</td>\n",
       "      <td>1987-01-30</td>\n",
       "    </tr>\n",
       "  </tbody>\n",
       "</table>\n",
       "</div>"
      ],
      "text/plain": [
       "               original_title  \\\n",
       "8094                   Broken   \n",
       "11770         A Dog's Purpose   \n",
       "10169        The Longest Ride   \n",
       "11553        The Intervention   \n",
       "8903   Only Lovers Left Alive   \n",
       "7261        Jack Goes Boating   \n",
       "11328           Mi gran noche   \n",
       "1632               Radio Days   \n",
       "\n",
       "                                                overview release_date  \n",
       "8094   Three suburban English families' lives intertw...   2012-08-22  \n",
       "11770  A dog goes on quest to discover his purpose in...   2017-01-19  \n",
       "10169  The lives of a young couple intertwine with a ...   2015-04-09  \n",
       "11553  A weekend getaway for four couples takes a sha...   2016-08-26  \n",
       "8903   After being around for centuries and now livin...   2013-12-12  \n",
       "7261   A limo driver's blind date sparks a tale of lo...   2010-09-23  \n",
       "11328  During the never-ending TV taping for a New Ye...   2015-10-23  \n",
       "1632   The Narrator (Woody Allen) tells us how the ra...   1987-01-30  "
      ]
     },
     "execution_count": 50,
     "metadata": {},
     "output_type": "execute_result"
    }
   ],
   "source": [
    "#Khi đưa vào hệ thống đề xuất để gợi ý, nếu đầu vào là 1 trong 3 bộ phim\n",
    "#này thì đầu ra phải chứa 2 bộ phim còn lại vì có cùng tóm tắt phim\n",
    "#nên độ tương đồng sẽ cao nhất (=1)\n",
    "#Check:\n",
    "get_recommend_movies('Le nuove comiche')"
   ]
  },
  {
   "cell_type": "code",
   "execution_count": null,
   "metadata": {},
   "outputs": [],
   "source": []
  },
  {
   "cell_type": "code",
   "execution_count": 51,
   "metadata": {
    "colab": {
     "base_uri": "https://localhost:8080/"
    },
    "id": "0K44PBpbeW1v",
    "outputId": "c2299ec2-9509-4138-fba7-0898ce3c8e33"
   },
   "outputs": [
    {
     "data": {
      "text/html": [
       "<div>\n",
       "<style scoped>\n",
       "    .dataframe tbody tr th:only-of-type {\n",
       "        vertical-align: middle;\n",
       "    }\n",
       "\n",
       "    .dataframe tbody tr th {\n",
       "        vertical-align: top;\n",
       "    }\n",
       "\n",
       "    .dataframe thead th {\n",
       "        text-align: right;\n",
       "    }\n",
       "</style>\n",
       "<table border=\"1\" class=\"dataframe\">\n",
       "  <thead>\n",
       "    <tr style=\"text-align: right;\">\n",
       "      <th></th>\n",
       "      <th>original_title</th>\n",
       "      <th>overview</th>\n",
       "      <th>release_date</th>\n",
       "    </tr>\n",
       "  </thead>\n",
       "  <tbody>\n",
       "    <tr>\n",
       "      <th>1171</th>\n",
       "      <td>The Parent Trap</td>\n",
       "      <td>Hallie Parker and Annie James are identical tw...</td>\n",
       "      <td>1998-07-28</td>\n",
       "    </tr>\n",
       "    <tr>\n",
       "      <th>4322</th>\n",
       "      <td>Spider-Man 2</td>\n",
       "      <td>Peter Parker is going through a major identity...</td>\n",
       "      <td>2004-06-25</td>\n",
       "    </tr>\n",
       "    <tr>\n",
       "      <th>5244</th>\n",
       "      <td>Tarzan the Ape Man</td>\n",
       "      <td>James Parker and Harry Holt are on an expediti...</td>\n",
       "      <td>1932-04-02</td>\n",
       "    </tr>\n",
       "    <tr>\n",
       "      <th>298</th>\n",
       "      <td>In the Army Now</td>\n",
       "      <td>Bones Conway and Jack Kaufman didn't really kn...</td>\n",
       "      <td>1994-08-12</td>\n",
       "    </tr>\n",
       "    <tr>\n",
       "      <th>5700</th>\n",
       "      <td>The Secret</td>\n",
       "      <td>Interviews with leading authors, philosophers,...</td>\n",
       "      <td>2006-03-26</td>\n",
       "    </tr>\n",
       "    <tr>\n",
       "      <th>4630</th>\n",
       "      <td>The Hit</td>\n",
       "      <td>Ex-gangster Willie Parker has betrayed his for...</td>\n",
       "      <td>1984-09-12</td>\n",
       "    </tr>\n",
       "    <tr>\n",
       "      <th>11645</th>\n",
       "      <td>13th</td>\n",
       "      <td>An in-depth look at the prison system in the U...</td>\n",
       "      <td>2016-10-07</td>\n",
       "    </tr>\n",
       "    <tr>\n",
       "      <th>7398</th>\n",
       "      <td>Hall Pass</td>\n",
       "      <td>When best buds Rick and Fred begin to show sig...</td>\n",
       "      <td>2011-02-25</td>\n",
       "    </tr>\n",
       "  </tbody>\n",
       "</table>\n",
       "</div>"
      ],
      "text/plain": [
       "           original_title                                           overview  \\\n",
       "1171      The Parent Trap  Hallie Parker and Annie James are identical tw...   \n",
       "4322         Spider-Man 2  Peter Parker is going through a major identity...   \n",
       "5244   Tarzan the Ape Man  James Parker and Harry Holt are on an expediti...   \n",
       "298       In the Army Now  Bones Conway and Jack Kaufman didn't really kn...   \n",
       "5700           The Secret  Interviews with leading authors, philosophers,...   \n",
       "4630              The Hit  Ex-gangster Willie Parker has betrayed his for...   \n",
       "11645                13th  An in-depth look at the prison system in the U...   \n",
       "7398            Hall Pass  When best buds Rick and Fred begin to show sig...   \n",
       "\n",
       "      release_date  \n",
       "1171    1998-07-28  \n",
       "4322    2004-06-25  \n",
       "5244    1932-04-02  \n",
       "298     1994-08-12  \n",
       "5700    2006-03-26  \n",
       "4630    1984-09-12  \n",
       "11645   2016-10-07  \n",
       "7398    2011-02-25  "
      ]
     },
     "execution_count": 51,
     "metadata": {},
     "output_type": "execute_result"
    }
   ],
   "source": [
    "#Thử đề xuất với tên bộ film bất kỳ\n",
    "#1. Bộ film: Batman Forever\n",
    "get_recommend_movies('Batman Forever')"
   ]
  },
  {
   "cell_type": "code",
   "execution_count": 52,
   "metadata": {
    "colab": {
     "base_uri": "https://localhost:8080/"
    },
    "id": "ziTODbQre1qc",
    "outputId": "dc2a9113-8396-4aa0-f22c-956f9b175904"
   },
   "outputs": [
    {
     "data": {
      "text/html": [
       "<div>\n",
       "<style scoped>\n",
       "    .dataframe tbody tr th:only-of-type {\n",
       "        vertical-align: middle;\n",
       "    }\n",
       "\n",
       "    .dataframe tbody tr th {\n",
       "        vertical-align: top;\n",
       "    }\n",
       "\n",
       "    .dataframe thead th {\n",
       "        text-align: right;\n",
       "    }\n",
       "</style>\n",
       "<table border=\"1\" class=\"dataframe\">\n",
       "  <thead>\n",
       "    <tr style=\"text-align: right;\">\n",
       "      <th></th>\n",
       "      <th>original_title</th>\n",
       "      <th>overview</th>\n",
       "      <th>release_date</th>\n",
       "    </tr>\n",
       "  </thead>\n",
       "  <tbody>\n",
       "    <tr>\n",
       "      <th>6184</th>\n",
       "      <td>Redbelt</td>\n",
       "      <td>Is there room for principle in Los Angeles? Mi...</td>\n",
       "      <td>2008-04-07</td>\n",
       "    </tr>\n",
       "    <tr>\n",
       "      <th>2222</th>\n",
       "      <td>F/X2</td>\n",
       "      <td>F/X man Rollie Tyler is now a toymaker. Mike, ...</td>\n",
       "      <td>1991-04-16</td>\n",
       "    </tr>\n",
       "    <tr>\n",
       "      <th>2268</th>\n",
       "      <td>Phantasm II</td>\n",
       "      <td>Mike, after his release from a psychiatric hos...</td>\n",
       "      <td>1988-07-08</td>\n",
       "    </tr>\n",
       "    <tr>\n",
       "      <th>8917</th>\n",
       "      <td>Doragon bôru Z 4: Super Saiyajin da Son Gokû</td>\n",
       "      <td>A Super Namekian named Slug comes to invade Ea...</td>\n",
       "      <td>1991-03-19</td>\n",
       "    </tr>\n",
       "    <tr>\n",
       "      <th>11599</th>\n",
       "      <td>I.T.</td>\n",
       "      <td>Mike Regan is a successful, self-made crook wh...</td>\n",
       "      <td>2016-09-09</td>\n",
       "    </tr>\n",
       "    <tr>\n",
       "      <th>6569</th>\n",
       "      <td>17 Again</td>\n",
       "      <td>On the brink of a midlife crisis, 30-something...</td>\n",
       "      <td>2009-03-11</td>\n",
       "    </tr>\n",
       "    <tr>\n",
       "      <th>10655</th>\n",
       "      <td>American Ultra</td>\n",
       "      <td>American Ultra is a fast-paced action comedy a...</td>\n",
       "      <td>2015-08-19</td>\n",
       "    </tr>\n",
       "    <tr>\n",
       "      <th>840</th>\n",
       "      <td>Scream</td>\n",
       "      <td>A killer known as Ghostface begins killing off...</td>\n",
       "      <td>1996-12-20</td>\n",
       "    </tr>\n",
       "  </tbody>\n",
       "</table>\n",
       "</div>"
      ],
      "text/plain": [
       "                                     original_title  \\\n",
       "6184                                        Redbelt   \n",
       "2222                                           F/X2   \n",
       "2268                                    Phantasm II   \n",
       "8917   Doragon bôru Z 4: Super Saiyajin da Son Gokû   \n",
       "11599                                          I.T.   \n",
       "6569                                       17 Again   \n",
       "10655                                American Ultra   \n",
       "840                                          Scream   \n",
       "\n",
       "                                                overview release_date  \n",
       "6184   Is there room for principle in Los Angeles? Mi...   2008-04-07  \n",
       "2222   F/X man Rollie Tyler is now a toymaker. Mike, ...   1991-04-16  \n",
       "2268   Mike, after his release from a psychiatric hos...   1988-07-08  \n",
       "8917   A Super Namekian named Slug comes to invade Ea...   1991-03-19  \n",
       "11599  Mike Regan is a successful, self-made crook wh...   2016-09-09  \n",
       "6569   On the brink of a midlife crisis, 30-something...   2009-03-11  \n",
       "10655  American Ultra is a fast-paced action comedy a...   2015-08-19  \n",
       "840    A killer known as Ghostface begins killing off...   1996-12-20  "
      ]
     },
     "execution_count": 52,
     "metadata": {},
     "output_type": "execute_result"
    }
   ],
   "source": [
    "#Thử đề xuất với tên bộ film bất kỳ\n",
    "#2. Bộ film: Star Wars\n",
    "get_recommend_movies('Star Wars')"
   ]
  },
  {
   "cell_type": "code",
   "execution_count": 53,
   "metadata": {
    "colab": {
     "base_uri": "https://localhost:8080/"
    },
    "id": "bQYcLV2fdwgd",
    "outputId": "2a4cff22-1d7b-491f-e2d1-7536017a6fa1"
   },
   "outputs": [
    {
     "data": {
      "text/html": [
       "<div>\n",
       "<style scoped>\n",
       "    .dataframe tbody tr th:only-of-type {\n",
       "        vertical-align: middle;\n",
       "    }\n",
       "\n",
       "    .dataframe tbody tr th {\n",
       "        vertical-align: top;\n",
       "    }\n",
       "\n",
       "    .dataframe thead th {\n",
       "        text-align: right;\n",
       "    }\n",
       "</style>\n",
       "<table border=\"1\" class=\"dataframe\">\n",
       "  <thead>\n",
       "    <tr style=\"text-align: right;\">\n",
       "      <th></th>\n",
       "      <th>original_title</th>\n",
       "      <th>overview</th>\n",
       "      <th>release_date</th>\n",
       "    </tr>\n",
       "  </thead>\n",
       "  <tbody>\n",
       "    <tr>\n",
       "      <th>5057</th>\n",
       "      <td>バンパイアハンターD</td>\n",
       "      <td>In a far-future time ruled by the supernatural...</td>\n",
       "      <td>1985-12-21</td>\n",
       "    </tr>\n",
       "    <tr>\n",
       "      <th>5695</th>\n",
       "      <td>リンダ リンダ リンダ</td>\n",
       "      <td>A group of four high school girls decide to pu...</td>\n",
       "      <td>2005-07-23</td>\n",
       "    </tr>\n",
       "    <tr>\n",
       "      <th>7226</th>\n",
       "      <td>Lost Boys: The Thirst</td>\n",
       "      <td>Vampire hunter Edgar Frog is destitute and nea...</td>\n",
       "      <td>2010-05-12</td>\n",
       "    </tr>\n",
       "    <tr>\n",
       "      <th>7593</th>\n",
       "      <td>Stake Land</td>\n",
       "      <td>Martin was a normal teenage boy before the cou...</td>\n",
       "      <td>2010-09-30</td>\n",
       "    </tr>\n",
       "    <tr>\n",
       "      <th>2695</th>\n",
       "      <td>Eddie and the Cruisers</td>\n",
       "      <td>Michael Paré stars as Eddie Wilson of the rock...</td>\n",
       "      <td>1983-09-23</td>\n",
       "    </tr>\n",
       "    <tr>\n",
       "      <th>10421</th>\n",
       "      <td>Scooby-Doo! And the Legend of the Vampire</td>\n",
       "      <td>Scooby and the gang are attending a concert at...</td>\n",
       "      <td>2003-03-04</td>\n",
       "    </tr>\n",
       "    <tr>\n",
       "      <th>7589</th>\n",
       "      <td>Fright Night</td>\n",
       "      <td>A teenager suspects his new neighbour is a vam...</td>\n",
       "      <td>2011-08-18</td>\n",
       "    </tr>\n",
       "    <tr>\n",
       "      <th>11</th>\n",
       "      <td>Dracula: Dead and Loving It</td>\n",
       "      <td>When a lawyer shows up at the vampire's doorst...</td>\n",
       "      <td>1995-12-22</td>\n",
       "    </tr>\n",
       "  </tbody>\n",
       "</table>\n",
       "</div>"
      ],
      "text/plain": [
       "                                  original_title  \\\n",
       "5057                                  バンパイアハンターD   \n",
       "5695                                 リンダ リンダ リンダ   \n",
       "7226                       Lost Boys: The Thirst   \n",
       "7593                                  Stake Land   \n",
       "2695                      Eddie and the Cruisers   \n",
       "10421  Scooby-Doo! And the Legend of the Vampire   \n",
       "7589                                Fright Night   \n",
       "11                   Dracula: Dead and Loving It   \n",
       "\n",
       "                                                overview release_date  \n",
       "5057   In a far-future time ruled by the supernatural...   1985-12-21  \n",
       "5695   A group of four high school girls decide to pu...   2005-07-23  \n",
       "7226   Vampire hunter Edgar Frog is destitute and nea...   2010-05-12  \n",
       "7593   Martin was a normal teenage boy before the cou...   2010-09-30  \n",
       "2695   Michael Paré stars as Eddie Wilson of the rock...   1983-09-23  \n",
       "10421  Scooby and the gang are attending a concert at...   2003-03-04  \n",
       "7589   A teenager suspects his new neighbour is a vam...   2011-08-18  \n",
       "11     When a lawyer shows up at the vampire's doorst...   1995-12-22  "
      ]
     },
     "execution_count": 53,
     "metadata": {},
     "output_type": "execute_result"
    }
   ],
   "source": [
    "#Thử đề xuất với tên bộ film bất kỳ\n",
    "#3. Bộ film: Titanic\n",
    "get_recommend_movies('Titanic')"
   ]
  },
  {
   "cell_type": "code",
   "execution_count": null,
   "metadata": {},
   "outputs": [],
   "source": []
  },
  {
   "cell_type": "markdown",
   "metadata": {},
   "source": [
    "## THỰC HÀNH:\n",
    "----\n",
    "1. Sinh viên đọc file dữ liệu Data_VN_2021.xlsx, lưu trữ thông tin của 63 tỉnh, thành phố của Việt Nam\n",
    "2. Sử dụng phương pháp trích chọn đặc trưng TF-IDF để vector hóa dữ liệu tên các tỉnh/thành phố\n",
    "3. Sử dụng độ đo cosine để tính toán độ tương đồng giữa các tên từ vector TF-IDF, trực quan hóa kết quả \n",
    "4. Xây dựng hàm trả về tên 5 tỉnh/thành phố gần nhất với tên một tỉnh/thành phố đưa vào?"
   ]
  },
  {
   "cell_type": "code",
   "execution_count": 54,
   "metadata": {},
   "outputs": [
    {
     "data": {
      "text/html": [
       "<div>\n",
       "<style scoped>\n",
       "    .dataframe tbody tr th:only-of-type {\n",
       "        vertical-align: middle;\n",
       "    }\n",
       "\n",
       "    .dataframe tbody tr th {\n",
       "        vertical-align: top;\n",
       "    }\n",
       "\n",
       "    .dataframe thead th {\n",
       "        text-align: right;\n",
       "    }\n",
       "</style>\n",
       "<table border=\"1\" class=\"dataframe\">\n",
       "  <thead>\n",
       "    <tr style=\"text-align: right;\">\n",
       "      <th></th>\n",
       "      <th>Tỉnh/Thành phố</th>\n",
       "      <th>Diện tích (km²)</th>\n",
       "      <th>Dân số (người)</th>\n",
       "      <th>Vĩ độ</th>\n",
       "      <th>Kinh độ</th>\n",
       "    </tr>\n",
       "  </thead>\n",
       "  <tbody>\n",
       "    <tr>\n",
       "      <th>0</th>\n",
       "      <td>Nghệ An</td>\n",
       "      <td>16493.7</td>\n",
       "      <td>3417809</td>\n",
       "      <td>18.6733</td>\n",
       "      <td>105.6922</td>\n",
       "    </tr>\n",
       "    <tr>\n",
       "      <th>1</th>\n",
       "      <td>Gia Lai</td>\n",
       "      <td>15510.8</td>\n",
       "      <td>1566882</td>\n",
       "      <td>13.9833</td>\n",
       "      <td>108.0000</td>\n",
       "    </tr>\n",
       "    <tr>\n",
       "      <th>2</th>\n",
       "      <td>Sơn La</td>\n",
       "      <td>14123.5</td>\n",
       "      <td>1286068</td>\n",
       "      <td>21.3270</td>\n",
       "      <td>103.9141</td>\n",
       "    </tr>\n",
       "    <tr>\n",
       "      <th>3</th>\n",
       "      <td>Đắk Lắk</td>\n",
       "      <td>13030.5</td>\n",
       "      <td>1897710</td>\n",
       "      <td>12.6667</td>\n",
       "      <td>108.0500</td>\n",
       "    </tr>\n",
       "    <tr>\n",
       "      <th>4</th>\n",
       "      <td>Thanh Hóa</td>\n",
       "      <td>11114.7</td>\n",
       "      <td>3690022</td>\n",
       "      <td>19.8075</td>\n",
       "      <td>105.7764</td>\n",
       "    </tr>\n",
       "    <tr>\n",
       "      <th>...</th>\n",
       "      <td>...</td>\n",
       "      <td>...</td>\n",
       "      <td>...</td>\n",
       "      <td>...</td>\n",
       "      <td>...</td>\n",
       "    </tr>\n",
       "    <tr>\n",
       "      <th>58</th>\n",
       "      <td>Đà Nẵng</td>\n",
       "      <td>1284.9</td>\n",
       "      <td>1191381</td>\n",
       "      <td>16.0748</td>\n",
       "      <td>108.2240</td>\n",
       "    </tr>\n",
       "    <tr>\n",
       "      <th>59</th>\n",
       "      <td>Vĩnh Phúc</td>\n",
       "      <td>1235.2</td>\n",
       "      <td>1184074</td>\n",
       "      <td>21.3100</td>\n",
       "      <td>105.5967</td>\n",
       "    </tr>\n",
       "    <tr>\n",
       "      <th>60</th>\n",
       "      <td>Hưng Yên</td>\n",
       "      <td>930.2</td>\n",
       "      <td>1279308</td>\n",
       "      <td>20.6464</td>\n",
       "      <td>106.0511</td>\n",
       "    </tr>\n",
       "    <tr>\n",
       "      <th>61</th>\n",
       "      <td>Hà Nam</td>\n",
       "      <td>860.9</td>\n",
       "      <td>867258</td>\n",
       "      <td>20.5453</td>\n",
       "      <td>105.9122</td>\n",
       "    </tr>\n",
       "    <tr>\n",
       "      <th>62</th>\n",
       "      <td>Bắc Ninh</td>\n",
       "      <td>822.7</td>\n",
       "      <td>1450518</td>\n",
       "      <td>21.1861</td>\n",
       "      <td>106.0763</td>\n",
       "    </tr>\n",
       "  </tbody>\n",
       "</table>\n",
       "<p>63 rows × 5 columns</p>\n",
       "</div>"
      ],
      "text/plain": [
       "   Tỉnh/Thành phố  Diện tích (km²)  Dân số (người)    Vĩ độ   Kinh độ\n",
       "0         Nghệ An          16493.7         3417809  18.6733  105.6922\n",
       "1         Gia Lai          15510.8         1566882  13.9833  108.0000\n",
       "2          Sơn La          14123.5         1286068  21.3270  103.9141\n",
       "3         Đắk Lắk          13030.5         1897710  12.6667  108.0500\n",
       "4       Thanh Hóa          11114.7         3690022  19.8075  105.7764\n",
       "..            ...              ...             ...      ...       ...\n",
       "58        Đà Nẵng           1284.9         1191381  16.0748  108.2240\n",
       "59      Vĩnh Phúc           1235.2         1184074  21.3100  105.5967\n",
       "60       Hưng Yên            930.2         1279308  20.6464  106.0511\n",
       "61         Hà Nam            860.9          867258  20.5453  105.9122\n",
       "62       Bắc Ninh            822.7         1450518  21.1861  106.0763\n",
       "\n",
       "[63 rows x 5 columns]"
      ]
     },
     "execution_count": 54,
     "metadata": {},
     "output_type": "execute_result"
    }
   ],
   "source": [
    "data1 = pd.read_excel('Data/Data_VN_2021.xlsx')\n",
    "data1"
   ]
  },
  {
   "cell_type": "code",
   "execution_count": 55,
   "metadata": {},
   "outputs": [
    {
     "name": "stdout",
     "output_type": "stream",
     "text": [
      "Danh sách toàn bộ các từ: ['cha' 'cô' 'công' 'mẹ' 'nghĩa' 'thầy' 'ơn']\n",
      "[[1 0 1 1 0 0 0]\n",
      " [1 0 0 1 1 0 0]\n",
      " [0 1 0 0 0 1 2]\n",
      " [1 1 0 1 0 1 0]]\n"
     ]
    }
   ],
   "source": [
    "st = ['công cha mẹ',\n",
    "      'nghĩa mẹ cha',\n",
    "      'ơn thầy ơn cô',\n",
    "      'cha mẹ thầy cô']\n",
    "\n",
    "#Phương pháp 1:  Túi đựng từ (Bag of Word):\n",
    "from sklearn.feature_extraction.text import CountVectorizer\n",
    "#Định nghĩa phương thức\n",
    "bow = CountVectorizer()\n",
    "bow_st = bow.fit_transform(st)\n",
    "print('Danh sách toàn bộ các từ:',bow.get_feature_names_out())\n",
    "print(bow_st.toarray())"
   ]
  },
  {
   "cell_type": "code",
   "execution_count": 56,
   "metadata": {},
   "outputs": [
    {
     "name": "stdout",
     "output_type": "stream",
     "text": [
      "Danh sách toàn bộ các từ: ['cha' 'cô' 'công' 'mẹ' 'nghĩa' 'thầy' 'ơn']\n",
      "[[0.474 0.    0.742 0.474 0.    0.    0.   ]\n",
      " [0.474 0.    0.    0.474 0.742 0.    0.   ]\n",
      " [0.    0.344 0.    0.    0.    0.344 0.873]\n",
      " [0.445 0.55  0.    0.445 0.    0.55  0.   ]]\n"
     ]
    }
   ],
   "source": [
    "#Phương pháp 2: TF-IDF:\n",
    "from sklearn.feature_extraction.text import TfidfVectorizer\n",
    "#Định nghĩa một vector TF-IDF:\n",
    "tfidf = TfidfVectorizer()\n",
    "#Tính toán cho danh sách st:\n",
    "tfidf_st = tfidf.fit_transform(st)\n",
    "print('Danh sách toàn bộ các từ:',tfidf.get_feature_names_out())\n",
    "print(np.round(tfidf_st.toarray(),3))"
   ]
  },
  {
   "cell_type": "code",
   "execution_count": 61,
   "metadata": {},
   "outputs": [
    {
     "data": {
      "text/plain": [
       "(63, 85)"
      ]
     },
     "execution_count": 61,
     "metadata": {},
     "output_type": "execute_result"
    }
   ],
   "source": [
    "tfidf_matrix1 = tfidf.fit_transform(data1['Tỉnh/Thành phố'])\n",
    "\n",
    "# ma trận corpus của TFIDF\n",
    "tfidf_matrix1.shape"
   ]
  },
  {
   "cell_type": "code",
   "execution_count": 62,
   "metadata": {},
   "outputs": [
    {
     "name": "stdout",
     "output_type": "stream",
     "text": [
      "Kích thước ma trận tương đồng: (63, 63)\n",
      "[[1. 0. 0. ... 0. 0. 0.]\n",
      " [0. 1. 0. ... 0. 0. 0.]\n",
      " [0. 0. 1. ... 0. 0. 0.]\n",
      " ...\n",
      " [0. 0. 0. ... 1. 0. 0.]\n",
      " [0. 0. 0. ... 0. 1. 0.]\n",
      " [0. 0. 0. ... 0. 0. 1.]]\n"
     ]
    }
   ],
   "source": [
    "cosine_sim = linear_kernel(tfidf_matrix,tfidf_matrix)\n",
    "print('Kích thước ma trận tương đồng:', cosine_sim.shape)\n",
    "print(cosine_sim)"
   ]
  },
  {
   "cell_type": "code",
   "execution_count": 63,
   "metadata": {},
   "outputs": [
    {
     "data": {
      "text/plain": [
       "0.0"
      ]
     },
     "execution_count": 63,
     "metadata": {},
     "output_type": "execute_result"
    }
   ],
   "source": [
    "cosine_sim.min()"
   ]
  },
  {
   "cell_type": "code",
   "execution_count": 64,
   "metadata": {},
   "outputs": [
    {
     "data": {
      "text/plain": [
       "1.0"
      ]
     },
     "execution_count": 64,
     "metadata": {},
     "output_type": "execute_result"
    }
   ],
   "source": [
    "round(cosine_sim.max(),2)"
   ]
  },
  {
   "cell_type": "code",
   "execution_count": 65,
   "metadata": {},
   "outputs": [
    {
     "data": {
      "image/png": "[encoded data removed]",
      "text/plain": [
       "<Figure size 1170x827 with 2 Axes>"
      ]
     },
     "metadata": {},
     "output_type": "display_data"
    }
   ],
   "source": [
    "sns.set(rc={'figure.figsize':(11.7,8.27)})\n",
    "\n",
    "ax = sns.heatmap(cosine_sim[0:100,0:100],\n",
    "                 cmap='bwr' )\n",
    "plt.show()"
   ]
  },
  {
   "cell_type": "code",
   "execution_count": 66,
   "metadata": {},
   "outputs": [
    {
     "data": {
      "text/plain": [
       "Tỉnh/Thành phố\n",
       "Nghệ An       0\n",
       "Gia Lai       1\n",
       "Sơn La        2\n",
       "Đắk Lắk       3\n",
       "Thanh Hóa     4\n",
       "             ..\n",
       "Đà Nẵng      58\n",
       "Vĩnh Phúc    59\n",
       "Hưng Yên     60\n",
       "Hà Nam       61\n",
       "Bắc Ninh     62\n",
       "Length: 63, dtype: int64"
      ]
     },
     "execution_count": 66,
     "metadata": {},
     "output_type": "execute_result"
    }
   ],
   "source": [
    "indices = pd.Series(data1.index,index=data1['Tỉnh/Thành phố'])\n",
    "indices"
   ]
  },
  {
   "cell_type": "code",
   "execution_count": 91,
   "metadata": {},
   "outputs": [],
   "source": [
    "def get_recommend_city(title,cosine_sim=cosine_sim):\n",
    "    #Lấy index của bộ film theo tiêu đề đưa vào\n",
    "    idx=indices[title]\n",
    "    \n",
    "    #Lấy điểm tương đồng theo cặp của tất cả các movies theo tiêu đề bộ film đưa vào\n",
    "    sim_scores = list(enumerate(cosine_sim[idx]))\n",
    "    \n",
    "    #Sắp xếp các bộ film dựa theo điểm tương đồng giảm dần\n",
    "    sim_scores = sorted(sim_scores, key=lambda x: x[1], reverse=True)\n",
    "    \n",
    "    #Lấy điểm của 8 bộ film có độ tương đồng cao nhất\n",
    "    #Và bao gồm cả bộ phim đưa vào \n",
    "    sim_scores_8 = sim_scores[0:6]\n",
    "    \n",
    "    #Lấy index tương ứng với bộ film này:\n",
    "    city_index = [i[0] for i in sim_scores_8]\n",
    "    \n",
    "    #Xóa index của bộ phim đầu vào khỏi danh sách kết quả:\n",
    "    city_index.remove(idx)\n",
    "    \n",
    "    #trả ra tiêu đề và tóm tắt của 8 bộ film ứng với index\n",
    "    return data1[['Tỉnh/Thành phố','Diện tích (km²)','Dân số (người)','Vĩ độ','Kinh độ']].iloc[city_index]"
   ]
  },
  {
   "cell_type": "code",
   "execution_count": 88,
   "metadata": {},
   "outputs": [
    {
     "data": {
      "text/html": [
       "<div>\n",
       "<style scoped>\n",
       "    .dataframe tbody tr th:only-of-type {\n",
       "        vertical-align: middle;\n",
       "    }\n",
       "\n",
       "    .dataframe tbody tr th {\n",
       "        vertical-align: top;\n",
       "    }\n",
       "\n",
       "    .dataframe thead th {\n",
       "        text-align: right;\n",
       "    }\n",
       "</style>\n",
       "<table border=\"1\" class=\"dataframe\">\n",
       "  <thead>\n",
       "    <tr style=\"text-align: right;\">\n",
       "      <th></th>\n",
       "      <th>Tỉnh/Thành phố</th>\n",
       "      <th>Diện tích (km²)</th>\n",
       "      <th>Dân số (người)</th>\n",
       "      <th>Vĩ độ</th>\n",
       "      <th>Kinh độ</th>\n",
       "    </tr>\n",
       "  </thead>\n",
       "  <tbody>\n",
       "    <tr>\n",
       "      <th>40</th>\n",
       "      <td>Hà Nội</td>\n",
       "      <td>3358.9</td>\n",
       "      <td>8418883</td>\n",
       "      <td>21.0245</td>\n",
       "      <td>105.8412</td>\n",
       "    </tr>\n",
       "  </tbody>\n",
       "</table>\n",
       "</div>"
      ],
      "text/plain": [
       "   Tỉnh/Thành phố  Diện tích (km²)  Dân số (người)    Vĩ độ   Kinh độ\n",
       "40         Hà Nội           3358.9         8418883  21.0245  105.8412"
      ]
     },
     "execution_count": 88,
     "metadata": {},
     "output_type": "execute_result"
    }
   ],
   "source": [
    "#Thử với bộ phim có Tóm tắt phim giống nhau:\n",
    "#Có 3 bộ phim tên khác nhau nhưng có cùng tóm tắt phim:\n",
    "data1.loc[(data1['Tỉnh/Thành phố']=='Hà Nội')]"
   ]
  },
  {
   "cell_type": "code",
   "execution_count": 92,
   "metadata": {},
   "outputs": [
    {
     "data": {
      "text/html": [
       "<div>\n",
       "<style scoped>\n",
       "    .dataframe tbody tr th:only-of-type {\n",
       "        vertical-align: middle;\n",
       "    }\n",
       "\n",
       "    .dataframe tbody tr th {\n",
       "        vertical-align: top;\n",
       "    }\n",
       "\n",
       "    .dataframe thead th {\n",
       "        text-align: right;\n",
       "    }\n",
       "</style>\n",
       "<table border=\"1\" class=\"dataframe\">\n",
       "  <thead>\n",
       "    <tr style=\"text-align: right;\">\n",
       "      <th></th>\n",
       "      <th>Tỉnh/Thành phố</th>\n",
       "      <th>Diện tích (km²)</th>\n",
       "      <th>Dân số (người)</th>\n",
       "      <th>Vĩ độ</th>\n",
       "      <th>Kinh độ</th>\n",
       "    </tr>\n",
       "  </thead>\n",
       "  <tbody>\n",
       "    <tr>\n",
       "      <th>12</th>\n",
       "      <td>Hà Giang</td>\n",
       "      <td>7929.5</td>\n",
       "      <td>883388</td>\n",
       "      <td>22.8233</td>\n",
       "      <td>104.9836</td>\n",
       "    </tr>\n",
       "    <tr>\n",
       "      <th>61</th>\n",
       "      <td>Hà Nam</td>\n",
       "      <td>860.9</td>\n",
       "      <td>867258</td>\n",
       "      <td>20.5453</td>\n",
       "      <td>105.9122</td>\n",
       "    </tr>\n",
       "    <tr>\n",
       "      <th>22</th>\n",
       "      <td>Hà Tĩnh</td>\n",
       "      <td>5990.7</td>\n",
       "      <td>1301601</td>\n",
       "      <td>18.3428</td>\n",
       "      <td>105.9058</td>\n",
       "    </tr>\n",
       "    <tr>\n",
       "      <th>0</th>\n",
       "      <td>Nghệ An</td>\n",
       "      <td>16493.7</td>\n",
       "      <td>3417809</td>\n",
       "      <td>18.6733</td>\n",
       "      <td>105.6922</td>\n",
       "    </tr>\n",
       "    <tr>\n",
       "      <th>1</th>\n",
       "      <td>Gia Lai</td>\n",
       "      <td>15510.8</td>\n",
       "      <td>1566882</td>\n",
       "      <td>13.9833</td>\n",
       "      <td>108.0000</td>\n",
       "    </tr>\n",
       "  </tbody>\n",
       "</table>\n",
       "</div>"
      ],
      "text/plain": [
       "   Tỉnh/Thành phố  Diện tích (km²)  Dân số (người)    Vĩ độ   Kinh độ\n",
       "12       Hà Giang           7929.5          883388  22.8233  104.9836\n",
       "61         Hà Nam            860.9          867258  20.5453  105.9122\n",
       "22        Hà Tĩnh           5990.7         1301601  18.3428  105.9058\n",
       "0         Nghệ An          16493.7         3417809  18.6733  105.6922\n",
       "1         Gia Lai          15510.8         1566882  13.9833  108.0000"
      ]
     },
     "execution_count": 92,
     "metadata": {},
     "output_type": "execute_result"
    }
   ],
   "source": [
    "get_recommend_city('Hà Nội')"
   ]
  },
  {
   "cell_type": "code",
   "execution_count": 90,
   "metadata": {},
   "outputs": [
    {
     "ename": "NameError",
     "evalue": "name 'get_similar_provinces' is not defined",
     "output_type": "error",
     "traceback": [
      "\u001b[1;31m---------------------------------------------------------------------------\u001b[0m",
      "\u001b[1;31mNameError\u001b[0m                                 Traceback (most recent call last)",
      "Cell \u001b[1;32mIn[90], line 1\u001b[0m\n\u001b[1;32m----> 1\u001b[0m get_similar_provinces(\u001b[38;5;124m'\u001b[39m\u001b[38;5;124mHà Nội\u001b[39m\u001b[38;5;124m'\u001b[39m)\n",
      "\u001b[1;31mNameError\u001b[0m: name 'get_similar_provinces' is not defined"
     ]
    }
   ],
   "source": [
    "get_similar_provinces('Hà Nội')"
   ]
  },
  {
   "cell_type": "code",
   "execution_count": null,
   "metadata": {},
   "outputs": [],
   "source": []
  }
 ],
 "metadata": {
  "accelerator": "TPU",
  "colab": {
   "collapsed_sections": [],
   "machine_shape": "hm",
   "name": "Project6_RecommenderSystem_Movie.ipynb",
   "provenance": [],
   "toc_visible": true
  },
  "kernelspec": {
   "display_name": "Python 3 (ipykernel)",
   "language": "python",
   "name": "python3"
  },
  "language_info": {
   "codemirror_mode": {
    "name": "ipython",
    "version": 3
   },
   "file_extension": ".py",
   "mimetype": "text/x-python",
   "name": "python",
   "nbconvert_exporter": "python",
   "pygments_lexer": "ipython3",
   "version": "3.11.4"
  }
 },
 "nbformat": 4,
 "nbformat_minor": 1
}
